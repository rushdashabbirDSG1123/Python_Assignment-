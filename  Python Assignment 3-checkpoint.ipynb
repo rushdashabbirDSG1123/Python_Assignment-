{
 "cells": [
  {
   "cell_type": "markdown",
   "id": "106c0a2e",
   "metadata": {},
   "source": [
    "# String functions in python"
   ]
  },
  {
   "cell_type": "code",
   "execution_count": 1,
   "id": "74a4f4fe",
   "metadata": {},
   "outputs": [],
   "source": [
    "name=\"Tesla\""
   ]
  },
  {
   "cell_type": "code",
   "execution_count": 2,
   "id": "1f4ba818",
   "metadata": {},
   "outputs": [
    {
     "data": {
      "text/plain": [
       "'Tesla'"
      ]
     },
     "execution_count": 2,
     "metadata": {},
     "output_type": "execute_result"
    }
   ],
   "source": [
    "name"
   ]
  },
  {
   "cell_type": "code",
   "execution_count": 3,
   "id": "e3ce4743",
   "metadata": {},
   "outputs": [
    {
     "data": {
      "text/plain": [
       "'tesla'"
      ]
     },
     "execution_count": 3,
     "metadata": {},
     "output_type": "execute_result"
    }
   ],
   "source": [
    "#we can write this in small latters by lower function\n",
    "name.lower()"
   ]
  },
  {
   "cell_type": "code",
   "execution_count": 4,
   "id": "7befbeac",
   "metadata": {},
   "outputs": [
    {
     "data": {
      "text/plain": [
       "'TESLA'"
      ]
     },
     "execution_count": 4,
     "metadata": {},
     "output_type": "execute_result"
    }
   ],
   "source": [
    "# we can write in capital latter by Upper function\n",
    "name.upper()"
   ]
  },
  {
   "cell_type": "code",
   "execution_count": 5,
   "id": "321a70b8",
   "metadata": {},
   "outputs": [
    {
     "data": {
      "text/plain": [
       "5"
      ]
     },
     "execution_count": 5,
     "metadata": {},
     "output_type": "execute_result"
    }
   ],
   "source": [
    "# we can count latter by len function\n",
    "len(name)"
   ]
  },
  {
   "cell_type": "code",
   "execution_count": 6,
   "id": "7aeb98ad",
   "metadata": {},
   "outputs": [
    {
     "data": {
      "text/plain": [
       "'Tesla'"
      ]
     },
     "execution_count": 6,
     "metadata": {},
     "output_type": "execute_result"
    }
   ],
   "source": [
    "# here we can 1st later in capital by capitalize function\n",
    "name.capitalize()"
   ]
  },
  {
   "cell_type": "code",
   "execution_count": 7,
   "id": "41529131",
   "metadata": {},
   "outputs": [
    {
     "data": {
      "text/plain": [
       "'PlAnets'"
      ]
     },
     "execution_count": 7,
     "metadata": {},
     "output_type": "execute_result"
    }
   ],
   "source": [
    "word=\"PlAnets\"\n",
    "word"
   ]
  },
  {
   "cell_type": "code",
   "execution_count": 8,
   "id": "039006fa",
   "metadata": {},
   "outputs": [
    {
     "data": {
      "text/plain": [
       "'pLaNETS'"
      ]
     },
     "execution_count": 8,
     "metadata": {},
     "output_type": "execute_result"
    }
   ],
   "source": [
    "#here some words are in small & few are capital so we can change it in small\n",
    "#whos are capital or whos are capital we can change in smal by swapcase function\n",
    "word.swapcase()"
   ]
  },
  {
   "cell_type": "code",
   "execution_count": 17,
   "id": "25400021",
   "metadata": {},
   "outputs": [],
   "source": [
    "# we can covert all data into cot \" \" or can conver into list By split Function\n",
    "b=\"twitter can we use\""
   ]
  },
  {
   "cell_type": "code",
   "execution_count": 18,
   "id": "db5ac49e",
   "metadata": {},
   "outputs": [
    {
     "data": {
      "text/plain": [
       "['twitter', 'can', 'we', 'use']"
      ]
     },
     "execution_count": 18,
     "metadata": {},
     "output_type": "execute_result"
    }
   ],
   "source": [
    "b.split() # like this"
   ]
  },
  {
   "cell_type": "code",
   "execution_count": 20,
   "id": "69855611",
   "metadata": {},
   "outputs": [
    {
     "data": {
      "text/plain": [
       "'Twitter Can We Use'"
      ]
     },
     "execution_count": 20,
     "metadata": {},
     "output_type": "execute_result"
    }
   ],
   "source": [
    "# we can conver whole sentence 1st later in capital by title function\n",
    "b.title()"
   ]
  },
  {
   "cell_type": "code",
   "execution_count": null,
   "id": "3a43dad6",
   "metadata": {},
   "outputs": [],
   "source": []
  },
  {
   "cell_type": "markdown",
   "id": "851967d6",
   "metadata": {},
   "source": [
    "# check function with string data"
   ]
  },
  {
   "cell_type": "code",
   "execution_count": 9,
   "id": "3c6f8179",
   "metadata": {},
   "outputs": [
    {
     "data": {
      "text/plain": [
       "True"
      ]
     },
     "execution_count": 9,
     "metadata": {},
     "output_type": "execute_result"
    }
   ],
   "source": [
    "# we can check here alphabet is present here or not by isalpha function\n",
    "name.isalpha()\n",
    "\n"
   ]
  },
  {
   "cell_type": "code",
   "execution_count": 10,
   "id": "acb2012e",
   "metadata": {},
   "outputs": [],
   "source": [
    "a=\"67854\""
   ]
  },
  {
   "cell_type": "code",
   "execution_count": 11,
   "id": "b5d9ba19",
   "metadata": {},
   "outputs": [
    {
     "data": {
      "text/plain": [
       "True"
      ]
     },
     "execution_count": 11,
     "metadata": {},
     "output_type": "execute_result"
    }
   ],
   "source": [
    "a.isdigit()"
   ]
  },
  {
   "cell_type": "code",
   "execution_count": 28,
   "id": "4a3e28f1",
   "metadata": {},
   "outputs": [],
   "source": [
    "c=\"ABC123\""
   ]
  },
  {
   "cell_type": "code",
   "execution_count": 29,
   "id": "14e6a690",
   "metadata": {},
   "outputs": [
    {
     "data": {
      "text/plain": [
       "True"
      ]
     },
     "execution_count": 29,
     "metadata": {},
     "output_type": "execute_result"
    }
   ],
   "source": [
    "#we can check if we have alphabets or numeric data with together we can check by isalnum function\n",
    "c.isalnum()"
   ]
  },
  {
   "cell_type": "code",
   "execution_count": 14,
   "id": "079176fd",
   "metadata": {},
   "outputs": [
    {
     "data": {
      "text/plain": [
       "False"
      ]
     },
     "execution_count": 14,
     "metadata": {},
     "output_type": "execute_result"
    }
   ],
   "source": [
    "name.islower()"
   ]
  },
  {
   "cell_type": "code",
   "execution_count": 16,
   "id": "86d6143f",
   "metadata": {},
   "outputs": [
    {
     "data": {
      "text/plain": [
       "False"
      ]
     },
     "execution_count": 16,
     "metadata": {},
     "output_type": "execute_result"
    }
   ],
   "source": [
    "name.isupper()"
   ]
  },
  {
   "cell_type": "code",
   "execution_count": 21,
   "id": "8f8c9627",
   "metadata": {},
   "outputs": [],
   "source": [
    "# we have start or end function also to search any data or word\n",
    "starship = \"Enterprise\""
   ]
  },
  {
   "cell_type": "code",
   "execution_count": 22,
   "id": "d335af42",
   "metadata": {},
   "outputs": [
    {
     "data": {
      "text/plain": [
       "False"
      ]
     },
     "execution_count": 22,
     "metadata": {},
     "output_type": "execute_result"
    }
   ],
   "source": [
    "starship.startswith(\"en\")"
   ]
  },
  {
   "cell_type": "code",
   "execution_count": 26,
   "id": "042c0a5b",
   "metadata": {},
   "outputs": [
    {
     "data": {
      "text/plain": [
       "True"
      ]
     },
     "execution_count": 26,
     "metadata": {},
     "output_type": "execute_result"
    }
   ],
   "source": [
    "starship.endswith(\"rise\")"
   ]
  },
  {
   "cell_type": "markdown",
   "id": "acd07eb3",
   "metadata": {},
   "source": [
    "# replace"
   ]
  },
  {
   "cell_type": "code",
   "execution_count": 27,
   "id": "b65bd424",
   "metadata": {},
   "outputs": [],
   "source": [
    "#str.replace(old, new)\n",
    "string=\"Welcome sir\""
   ]
  },
  {
   "cell_type": "code",
   "execution_count": 33,
   "id": "2be7bcb6",
   "metadata": {},
   "outputs": [
    {
     "name": "stdout",
     "output_type": "stream",
     "text": [
      "Welcome sir\n"
     ]
    }
   ],
   "source": [
    "print(string)"
   ]
  },
  {
   "cell_type": "code",
   "execution_count": 34,
   "id": "13ff0e5a",
   "metadata": {},
   "outputs": [],
   "source": [
    "string1=string.replace(\"Welcome\",\"Good Morning\")\n",
    "# we can change like this"
   ]
  },
  {
   "cell_type": "code",
   "execution_count": 35,
   "id": "0b159385",
   "metadata": {},
   "outputs": [
    {
     "name": "stdout",
     "output_type": "stream",
     "text": [
      "Good Morning sir\n"
     ]
    }
   ],
   "source": [
    "print(string1)"
   ]
  },
  {
   "cell_type": "code",
   "execution_count": 36,
   "id": "aa38deca",
   "metadata": {},
   "outputs": [
    {
     "name": "stdout",
     "output_type": "stream",
     "text": [
      "GoodBye sir\n"
     ]
    }
   ],
   "source": [
    "print(string.replace(\"Welcome\",\"GoodBye\"))"
   ]
  },
  {
   "cell_type": "code",
   "execution_count": 37,
   "id": "cddedc22",
   "metadata": {},
   "outputs": [],
   "source": [
    "txt = \"I like bananas\""
   ]
  },
  {
   "cell_type": "code",
   "execution_count": 38,
   "id": "b253208f",
   "metadata": {},
   "outputs": [
    {
     "name": "stdout",
     "output_type": "stream",
     "text": [
      "I like apples\n"
     ]
    }
   ],
   "source": [
    "x=txt.replace(\"bananas\",'apples')\n",
    "print(x)"
   ]
  },
  {
   "cell_type": "code",
   "execution_count": 39,
   "id": "1333f0e3",
   "metadata": {},
   "outputs": [],
   "source": [
    "phrase = \"the surprise is in here somewhere\""
   ]
  },
  {
   "cell_type": "code",
   "execution_count": 40,
   "id": "a88f8d9e",
   "metadata": {},
   "outputs": [
    {
     "data": {
      "text/plain": [
       "4"
      ]
     },
     "execution_count": 40,
     "metadata": {},
     "output_type": "execute_result"
    }
   ],
   "source": [
    "# we can find the location by the find function\n",
    "phrase.find(\"surprise\")\n"
   ]
  },
  {
   "cell_type": "code",
   "execution_count": 41,
   "id": "ae2de316",
   "metadata": {},
   "outputs": [],
   "source": [
    "# split function work work at space \n",
    "text = \"Hello World DataTrained\""
   ]
  },
  {
   "cell_type": "code",
   "execution_count": 42,
   "id": "19e27839",
   "metadata": {},
   "outputs": [
    {
     "name": "stdout",
     "output_type": "stream",
     "text": [
      "['Hello', 'World', 'DataTrained']\n"
     ]
    }
   ],
   "source": [
    "print(text.split())"
   ]
  },
  {
   "cell_type": "code",
   "execution_count": 43,
   "id": "92095aa3",
   "metadata": {},
   "outputs": [],
   "source": [
    "text1 = \"Hello,World, DataTrained\""
   ]
  },
  {
   "cell_type": "code",
   "execution_count": 44,
   "id": "be35ddd0",
   "metadata": {},
   "outputs": [
    {
     "name": "stdout",
     "output_type": "stream",
     "text": [
      "['Hello,World', 'DataTrained']\n"
     ]
    }
   ],
   "source": [
    "# splits at ','\n",
    "\n",
    "print(text1.split(\", \"))"
   ]
  },
  {
   "cell_type": "code",
   "execution_count": 46,
   "id": "1c11bec4",
   "metadata": {},
   "outputs": [],
   "source": [
    "text2 = \"Hello,World:, DataTrained\"\n",
    "\n",
    "# Splits at ':'"
   ]
  },
  {
   "cell_type": "code",
   "execution_count": 47,
   "id": "cb9ef877",
   "metadata": {},
   "outputs": [
    {
     "name": "stdout",
     "output_type": "stream",
     "text": [
      "['Hello,World', ', DataTrained']\n"
     ]
    }
   ],
   "source": [
    "print(text2.split(\":\"))"
   ]
  },
  {
   "cell_type": "code",
   "execution_count": 54,
   "id": "923170b8",
   "metadata": {},
   "outputs": [],
   "source": [
    "#Task:\n",
    "\n",
    "#1\n",
    "\n",
    "#Q Write a program that converts the following strings to lowercase:\n",
    "\n",
    "d=\"Animals\", \"Badger\", \"Honey Bee\", \"Honey Badger\"\n",
    "#Print each lowercase string on a separate line."
   ]
  },
  {
   "cell_type": "code",
   "execution_count": 55,
   "id": "c063fab3",
   "metadata": {},
   "outputs": [
    {
     "data": {
      "text/plain": [
       "('Animals', 'Badger', 'Honey Bee', 'Honey Badger')"
      ]
     },
     "execution_count": 55,
     "metadata": {},
     "output_type": "execute_result"
    }
   ],
   "source": [
    "d"
   ]
  },
  {
   "cell_type": "code",
   "execution_count": 60,
   "id": "674bbba9",
   "metadata": {},
   "outputs": [
    {
     "data": {
      "text/plain": [
       "'animals'"
      ]
     },
     "execution_count": 60,
     "metadata": {},
     "output_type": "execute_result"
    }
   ],
   "source": [
    "st=\"Animals\"\n",
    "st.lower()"
   ]
  },
  {
   "cell_type": "code",
   "execution_count": 61,
   "id": "f3f0ea8b",
   "metadata": {},
   "outputs": [
    {
     "data": {
      "text/plain": [
       "'badger'"
      ]
     },
     "execution_count": 61,
     "metadata": {},
     "output_type": "execute_result"
    }
   ],
   "source": [
    "st1=\"Badger\"\n",
    "st1.lower()"
   ]
  },
  {
   "cell_type": "code",
   "execution_count": 62,
   "id": "1c094389",
   "metadata": {},
   "outputs": [
    {
     "data": {
      "text/plain": [
       "'honey bee'"
      ]
     },
     "execution_count": 62,
     "metadata": {},
     "output_type": "execute_result"
    }
   ],
   "source": [
    "st3=\"Honey Bee\"\n",
    "st3.lower()"
   ]
  },
  {
   "cell_type": "code",
   "execution_count": 63,
   "id": "8513869b",
   "metadata": {},
   "outputs": [
    {
     "data": {
      "text/plain": [
       "'honey badger'"
      ]
     },
     "execution_count": 63,
     "metadata": {},
     "output_type": "execute_result"
    }
   ],
   "source": [
    "st4='Honey Badger'\n",
    "st4.lower()"
   ]
  },
  {
   "cell_type": "markdown",
   "id": "fd523ecb",
   "metadata": {},
   "source": [
    "#2\n",
    "\n",
    "#Write a program that prints out the result of .startswith(\"be\") on\n",
    "\n",
    "#each of the following strings:"
   ]
  },
  {
   "cell_type": "code",
   "execution_count": 81,
   "id": "e148878d",
   "metadata": {},
   "outputs": [
    {
     "name": "stdout",
     "output_type": "stream",
     "text": [
      "string1 = False\n",
      "string2 = True\n",
      "string3 = False\n",
      "string4 = False\n"
     ]
    }
   ],
   "source": [
    "string1 = \"Becomes\"\n",
    "\n",
    "string2 = \"becomes\"\n",
    "\n",
    "string3 = \"BEAR\"\n",
    "\n",
    "string4 = \" bEautiful\"\n",
    "\n",
    "print(\"string1 =\",string1.startswith(\"be\"))\n",
    "print(\"string2 =\",string2.startswith(\"be\"))\n",
    "print(\"string3 =\",string3.startswith(\"be\"))\n",
    "print(\"string4 =\",string4.startswith(\"be\"))"
   ]
  },
  {
   "cell_type": "code",
   "execution_count": null,
   "id": "7ab623b4",
   "metadata": {},
   "outputs": [],
   "source": []
  },
  {
   "cell_type": "code",
   "execution_count": 66,
   "id": "d6ddb66b",
   "metadata": {},
   "outputs": [
    {
     "name": "stdout",
     "output_type": "stream",
     "text": [
      "Becomes becomes BEAR  bEautiful\n"
     ]
    }
   ],
   "source": [
    "e=print(string1,string2,string3,string4)"
   ]
  },
  {
   "cell_type": "code",
   "execution_count": 77,
   "id": "d9558e08",
   "metadata": {},
   "outputs": [
    {
     "name": "stdout",
     "output_type": "stream",
     "text": [
      "string1 = False\n"
     ]
    }
   ],
   "source": [
    "print(\"string1 =\",string1.startswith(\"be\"))"
   ]
  },
  {
   "cell_type": "code",
   "execution_count": 78,
   "id": "c4175d57",
   "metadata": {},
   "outputs": [
    {
     "name": "stdout",
     "output_type": "stream",
     "text": [
      "string2 = True\n"
     ]
    }
   ],
   "source": [
    "print(\"string2 =\",string2.startswith(\"be\"))"
   ]
  },
  {
   "cell_type": "code",
   "execution_count": 79,
   "id": "e8762f2e",
   "metadata": {},
   "outputs": [
    {
     "name": "stdout",
     "output_type": "stream",
     "text": [
      "string3 = False\n"
     ]
    }
   ],
   "source": [
    "print(\"string3 =\",string3.startswith(\"be\"))"
   ]
  },
  {
   "cell_type": "code",
   "execution_count": 80,
   "id": "a95148c3",
   "metadata": {},
   "outputs": [
    {
     "name": "stdout",
     "output_type": "stream",
     "text": [
      "string4 = False\n"
     ]
    }
   ],
   "source": [
    "print(\"string4 =\",string4.startswith(\"be\"))"
   ]
  },
  {
   "cell_type": "markdown",
   "id": "2a71fb0e",
   "metadata": {},
   "source": [
    "3\n",
    "\n",
    "Using the same four strings from above, write a program that\n",
    "\n",
    "uses string methods to alter each string so that .startswith(\"be\")\n",
    "\n",
    "returns True for all of them"
   ]
  },
  {
   "cell_type": "code",
   "execution_count": 84,
   "id": "7d6f1ca7",
   "metadata": {},
   "outputs": [
    {
     "name": "stdout",
     "output_type": "stream",
     "text": [
      "string1 = True\n",
      "string2 = True\n",
      "string3 = True\n",
      "string4 = True\n"
     ]
    }
   ],
   "source": [
    "string1 = \"Becomes\"\n",
    "\n",
    "string2 = \"becomes\"\n",
    "\n",
    "string3 = \"BEAR\"\n",
    "\n",
    "string4 = \"bEautiful\"\n",
    "\n",
    "print(\"string1 =\",string1.startswith(\"Be\"))\n",
    "print(\"string2 =\",string2.startswith(\"be\"))\n",
    "print(\"string3 =\",string3.startswith(\"BE\"))\n",
    "print(\"string4 =\",string4.startswith(\"bEau\"))\n"
   ]
  },
  {
   "cell_type": "markdown",
   "id": "a95cab5b",
   "metadata": {},
   "source": [
    "4 .Write a program that takes input from the user and displays that\n",
    "\n",
    "input back."
   ]
  },
  {
   "cell_type": "code",
   "execution_count": 88,
   "id": "3bfd4bce",
   "metadata": {},
   "outputs": [
    {
     "name": "stdout",
     "output_type": "stream",
     "text": [
      "enter str1 Banana\n",
      "enter str2 Mango\n",
      "enter str3 Apple\n",
      "enter str4 Guava\n",
      "string1 = True\n",
      "string2 = False\n",
      "string3 = True\n",
      "string4 = True\n"
     ]
    }
   ],
   "source": [
    "string1 = (input(\"enter str1 \"))\n",
    "\n",
    "string2 = (input(\"enter str2 \"))\n",
    "\n",
    "string3 = (input(\"enter str3 \"))\n",
    "\n",
    "string4 = (input(\"enter str4 \"))\n",
    "\n",
    "print(\"string1 =\",string1.startswith(\"Ba\"))\n",
    "print(\"string2 =\",string2.startswith(\"Me\"))\n",
    "print(\"string3 =\",string3.startswith(\"Ap\"))\n",
    "print(\"string4 =\",string4.startswith(\"Gu\"))\n",
    "\n"
   ]
  },
  {
   "cell_type": "markdown",
   "id": "46ec5526",
   "metadata": {},
   "source": [
    "5\n",
    "\n",
    " Write a program that takes input from the user and displays the\n",
    "\n",
    "input in lowercase.\n",
    "\n"
   ]
  },
  {
   "cell_type": "code",
   "execution_count": 89,
   "id": "2101e89c",
   "metadata": {},
   "outputs": [
    {
     "name": "stdout",
     "output_type": "stream",
     "text": [
      "enter str1 Banana\n",
      "enter str2 Mango\n",
      "enter str3 Aplle\n",
      "enter str4 GUAVA\n",
      "string1 = banana\n",
      "string2 = mango\n",
      "string3 = aplle\n",
      "string4 = guava\n"
     ]
    }
   ],
   "source": [
    "string1 = (input(\"enter str1 \"))\n",
    "\n",
    "string2 = (input(\"enter str2 \"))\n",
    "\n",
    "string3 = (input(\"enter str3 \"))\n",
    "\n",
    "string4 = (input(\"enter str4 \"))\n",
    "\n",
    "print(\"string1 =\",string1.lower())\n",
    "print(\"string2 =\",string2.lower())\n",
    "print(\"string3 =\",string3.lower())\n",
    "print(\"string4 =\",string4.lower())\n"
   ]
  },
  {
   "cell_type": "markdown",
   "id": "d3cbac7b",
   "metadata": {},
   "source": [
    "6 Write a program that takes input from the user and displays the\n",
    "\n",
    "number of characters/len in the input.\n",
    "\n"
   ]
  },
  {
   "cell_type": "code",
   "execution_count": 98,
   "id": "3bdc3c58",
   "metadata": {},
   "outputs": [
    {
     "name": "stdout",
     "output_type": "stream",
     "text": [
      "enter str1 Bananas\n",
      "enter str2 Orange\n",
      "enter str3 Pineapple\n",
      "enter str4 Poemegranet\n",
      "string1 = 7\n",
      "string2 = 6\n",
      "string3 = 9\n",
      "string4 = 11\n"
     ]
    }
   ],
   "source": [
    "string1 = (input(\"enter str1 \"))\n",
    "\n",
    "string2 = (input(\"enter str2 \"))\n",
    "\n",
    "string3 = (input(\"enter str3 \"))\n",
    "\n",
    "string4 = (input(\"enter str4 \"))\n",
    "\n",
    "print(\"string1 =\",len(string1))\n",
    "print(\"string2 =\",len(string2))\n",
    "print(\"string3 =\",len(string3))\n",
    "print(\"string4 =\",len(string4))"
   ]
  },
  {
   "cell_type": "code",
   "execution_count": 96,
   "id": "922b9268",
   "metadata": {},
   "outputs": [
    {
     "data": {
      "text/plain": [
       "6"
      ]
     },
     "execution_count": 96,
     "metadata": {},
     "output_type": "execute_result"
    }
   ],
   "source": [
    "len(string1)"
   ]
  },
  {
   "cell_type": "code",
   "execution_count": null,
   "id": "fe1b57af",
   "metadata": {},
   "outputs": [],
   "source": []
  },
  {
   "cell_type": "code",
   "execution_count": null,
   "id": "97abea63",
   "metadata": {},
   "outputs": [],
   "source": []
  },
  {
   "cell_type": "code",
   "execution_count": null,
   "id": "62dd8f1c",
   "metadata": {},
   "outputs": [],
   "source": []
  },
  {
   "cell_type": "code",
   "execution_count": null,
   "id": "fcb0f14f",
   "metadata": {},
   "outputs": [],
   "source": []
  },
  {
   "cell_type": "code",
   "execution_count": null,
   "id": "f86dfcc3",
   "metadata": {},
   "outputs": [],
   "source": []
  },
  {
   "cell_type": "code",
   "execution_count": null,
   "id": "8f51f79a",
   "metadata": {},
   "outputs": [],
   "source": []
  },
  {
   "cell_type": "code",
   "execution_count": null,
   "id": "8378ff6b",
   "metadata": {},
   "outputs": [],
   "source": []
  },
  {
   "cell_type": "code",
   "execution_count": null,
   "id": "e96b6b61",
   "metadata": {},
   "outputs": [],
   "source": []
  },
  {
   "cell_type": "code",
   "execution_count": null,
   "id": "081bdfb5",
   "metadata": {},
   "outputs": [],
   "source": []
  },
  {
   "cell_type": "code",
   "execution_count": null,
   "id": "33003460",
   "metadata": {},
   "outputs": [],
   "source": []
  },
  {
   "cell_type": "code",
   "execution_count": null,
   "id": "d862d090",
   "metadata": {},
   "outputs": [],
   "source": []
  },
  {
   "cell_type": "code",
   "execution_count": null,
   "id": "59eb5d80",
   "metadata": {},
   "outputs": [],
   "source": []
  },
  {
   "cell_type": "code",
   "execution_count": null,
   "id": "46dfcf0c",
   "metadata": {},
   "outputs": [],
   "source": []
  },
  {
   "cell_type": "code",
   "execution_count": null,
   "id": "453729da",
   "metadata": {},
   "outputs": [],
   "source": []
  },
  {
   "cell_type": "code",
   "execution_count": null,
   "id": "4238bf60",
   "metadata": {},
   "outputs": [],
   "source": []
  },
  {
   "cell_type": "code",
   "execution_count": null,
   "id": "a37f0122",
   "metadata": {},
   "outputs": [],
   "source": []
  },
  {
   "cell_type": "code",
   "execution_count": null,
   "id": "d90d0490",
   "metadata": {},
   "outputs": [],
   "source": []
  },
  {
   "cell_type": "code",
   "execution_count": null,
   "id": "b7e08fc1",
   "metadata": {},
   "outputs": [],
   "source": []
  },
  {
   "cell_type": "code",
   "execution_count": null,
   "id": "08bc1ea3",
   "metadata": {},
   "outputs": [],
   "source": []
  },
  {
   "cell_type": "code",
   "execution_count": null,
   "id": "a50b6acb",
   "metadata": {},
   "outputs": [],
   "source": []
  },
  {
   "cell_type": "code",
   "execution_count": null,
   "id": "54499949",
   "metadata": {},
   "outputs": [],
   "source": []
  },
  {
   "cell_type": "code",
   "execution_count": null,
   "id": "9fa35220",
   "metadata": {},
   "outputs": [],
   "source": []
  }
 ],
 "metadata": {
  "kernelspec": {
   "display_name": "Python 3 (ipykernel)",
   "language": "python",
   "name": "python3"
  },
  "language_info": {
   "codemirror_mode": {
    "name": "ipython",
    "version": 3
   },
   "file_extension": ".py",
   "mimetype": "text/x-python",
   "name": "python",
   "nbconvert_exporter": "python",
   "pygments_lexer": "ipython3",
   "version": "3.11.5"
  }
 },
 "nbformat": 4,
 "nbformat_minor": 5
}
