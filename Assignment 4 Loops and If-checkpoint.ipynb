{
 "cells": [
  {
   "cell_type": "markdown",
   "id": "16c9bf2b",
   "metadata": {},
   "source": [
    "# Loops /if"
   ]
  },
  {
   "cell_type": "code",
   "execution_count": 1,
   "id": "2f550af3",
   "metadata": {},
   "outputs": [
    {
     "name": "stdout",
     "output_type": "stream",
     "text": [
      "0\n",
      "1\n",
      "2\n",
      "3\n"
     ]
    }
   ],
   "source": [
    "x=0\n",
    "\n",
    "#define a while loop\n",
    "\n",
    "while(x <4):\n",
    "\n",
    "  print(x)\n",
    "\n",
    "  x = x+1\n",
    "\n"
   ]
  },
  {
   "cell_type": "code",
   "execution_count": 2,
   "id": "1eec7e12",
   "metadata": {},
   "outputs": [
    {
     "name": "stdout",
     "output_type": "stream",
     "text": [
      "1\n",
      "2\n",
      "3\n",
      "4\n",
      "5\n",
      "6\n",
      "7\n",
      "8\n",
      "9\n",
      "10\n"
     ]
    }
   ],
   "source": [
    "#Task:\n",
    "\n",
    "#Print First 10 natural numbers using while loop\n",
    "\n",
    "# program 1: Print first 10 natural numbers\n",
    "\n",
    "i = 1\n",
    "\n",
    "while i <= 10:\n",
    "\n",
    "    print(i)\n",
    "\n",
    "    i=i+1"
   ]
  },
  {
   "cell_type": "code",
   "execution_count": 3,
   "id": "f0410bdc",
   "metadata": {},
   "outputs": [
    {
     "name": "stdout",
     "output_type": "stream",
     "text": [
      "2\n",
      "3\n",
      "4\n",
      "5\n",
      "6\n"
     ]
    }
   ],
   "source": [
    "# For loop here\n",
    "for x in range(2,7):\n",
    "\n",
    "  print(x)"
   ]
  },
  {
   "cell_type": "code",
   "execution_count": 4,
   "id": "e6adeeb8",
   "metadata": {},
   "outputs": [
    {
     "name": "stdout",
     "output_type": "stream",
     "text": [
      "Jan\n",
      "Feb\n",
      "Mar\n",
      "April\n",
      "May\n",
      "June\n"
     ]
    }
   ],
   "source": [
    "Months = [\"Jan\",\"Feb\",\"Mar\",\"April\",\"May\",\"June\"]\n",
    "\n",
    "for m in Months:\n",
    "\n",
    "  print(m)"
   ]
  },
  {
   "cell_type": "code",
   "execution_count": 5,
   "id": "2bb2e893",
   "metadata": {},
   "outputs": [
    {
     "name": "stdout",
     "output_type": "stream",
     "text": [
      "cat\n",
      "window\n",
      "defenestrate\n"
     ]
    }
   ],
   "source": [
    " # Measure some strings:\n",
    "\n",
    "words = ['cat', 'window', 'defenestrate']\n",
    "\n",
    "for w in words:\n",
    "\n",
    "  print(w)"
   ]
  },
  {
   "cell_type": "code",
   "execution_count": 6,
   "id": "81da66e2",
   "metadata": {
    "scrolled": true
   },
   "outputs": [
    {
     "name": "stdout",
     "output_type": "stream",
     "text": [
      "cat 3\n",
      "window 6\n",
      "defenestrate 12\n"
     ]
    }
   ],
   "source": [
    "for w in words:\n",
    "\n",
    " print(w, len(w))"
   ]
  },
  {
   "cell_type": "code",
   "execution_count": 7,
   "id": "3a5b58a5",
   "metadata": {},
   "outputs": [
    {
     "name": "stdout",
     "output_type": "stream",
     "text": [
      "1\n",
      "2\n",
      "3\n"
     ]
    }
   ],
   "source": [
    "j=1\n",
    "while (j<4):\n",
    "    print(j)\n",
    "    j=j+1"
   ]
  },
  {
   "cell_type": "code",
   "execution_count": 8,
   "id": "dcaa8b33",
   "metadata": {},
   "outputs": [
    {
     "data": {
      "text/plain": [
       "[5, 6, 7, 8, 9]"
      ]
     },
     "execution_count": 8,
     "metadata": {},
     "output_type": "execute_result"
    }
   ],
   "source": [
    "list(range(5,10))"
   ]
  },
  {
   "cell_type": "code",
   "execution_count": 11,
   "id": "20e795c0",
   "metadata": {},
   "outputs": [
    {
     "data": {
      "text/plain": [
       "[0, 1, 2]"
      ]
     },
     "execution_count": 11,
     "metadata": {},
     "output_type": "execute_result"
    }
   ],
   "source": [
    "list(range(3))"
   ]
  },
  {
   "cell_type": "code",
   "execution_count": 3,
   "id": "f1053b03",
   "metadata": {},
   "outputs": [
    {
     "data": {
      "text/plain": [
       "range(5, 10)"
      ]
     },
     "execution_count": 3,
     "metadata": {},
     "output_type": "execute_result"
    }
   ],
   "source": [
    "range(5,10)\n"
   ]
  },
  {
   "cell_type": "code",
   "execution_count": 17,
   "id": "4929d964",
   "metadata": {},
   "outputs": [
    {
     "data": {
      "text/plain": [
       "[0, 1, 2, 3, 4, 5, 6, 7, 8]"
      ]
     },
     "execution_count": 17,
     "metadata": {},
     "output_type": "execute_result"
    }
   ],
   "source": [
    "list(range(9))\n",
    "\n"
   ]
  },
  {
   "cell_type": "code",
   "execution_count": 18,
   "id": "df98a270",
   "metadata": {},
   "outputs": [
    {
     "data": {
      "text/plain": [
       "range(0, 10, 3)"
      ]
     },
     "execution_count": 18,
     "metadata": {},
     "output_type": "execute_result"
    }
   ],
   "source": [
    "range(0, 10, 3)"
   ]
  },
  {
   "cell_type": "code",
   "execution_count": 22,
   "id": "99441b10",
   "metadata": {},
   "outputs": [
    {
     "name": "stdout",
     "output_type": "stream",
     "text": [
      "0\n",
      "1\n",
      "2\n",
      "3\n",
      "4\n"
     ]
    }
   ],
   "source": [
    "a = ['Mary', 'had', 'a', 'little', 'lamb']\n",
    "\n",
    "for i in range(len(a)):\n",
    "\n",
    " print(i)\n",
    "\n"
   ]
  },
  {
   "cell_type": "code",
   "execution_count": 25,
   "id": "3ba6cf90",
   "metadata": {},
   "outputs": [
    {
     "name": "stdout",
     "output_type": "stream",
     "text": [
      "x is greater than y\n"
     ]
    }
   ],
   "source": [
    "x=8\n",
    "\n",
    "y=4\n",
    "\n",
    "if(x < y):\n",
    "\n",
    "  st= \"x is less than y\"\n",
    "else:\n",
    "\n",
    "  st= \"x is greater than y\"\n",
    "\n",
    "print (st)\n",
    "\n"
   ]
  },
  {
   "cell_type": "code",
   "execution_count": 31,
   "id": "7767f0b6",
   "metadata": {},
   "outputs": [
    {
     "name": "stdout",
     "output_type": "stream",
     "text": [
      "Please enter an integer: 42\n"
     ]
    }
   ],
   "source": [
    "x = int(input(\"Please enter an integer: \"))\n",
    "\n",
    "\n"
   ]
  },
  {
   "cell_type": "code",
   "execution_count": 37,
   "id": "ec4cbde8",
   "metadata": {},
   "outputs": [
    {
     "name": "stdout",
     "output_type": "stream",
     "text": [
      "Please enter an integer: 1\n",
      "Single\n"
     ]
    }
   ],
   "source": [
    "x = int(input(\"Please enter an integer: \"))\n",
    "if x < 0:\n",
    "\n",
    "    x = 0\n",
    "\n",
    "    print('Negative changed to zero')\n",
    "\n",
    "elif x == 0:\n",
    "\n",
    "    print('Zero')\n",
    "\n",
    "elif x == 1:\n",
    "\n",
    "    print('Single')\n",
    "\n",
    "else:\n",
    "\n",
    "    print('More')"
   ]
  },
  {
   "cell_type": "markdown",
   "id": "c1c23630",
   "metadata": {},
   "source": [
    "# Task :write a program using if-elif with different country value and total values.\n",
    "#country = \"US\""
   ]
  },
  {
   "cell_type": "code",
   "execution_count": 26,
   "id": "5e459055",
   "metadata": {},
   "outputs": [
    {
     "name": "stdout",
     "output_type": "stream",
     "text": [
      "Country equal to US\n"
     ]
    }
   ],
   "source": [
    "country = \"US\"\n",
    "\n",
    "if country == \"US\":\n",
    "    \n",
    "    print(\"Country equal to US\")\n",
    "    \n",
    "else:\n",
    "    print(\"Country not equal to AU\")\n"
   ]
  },
  {
   "cell_type": "code",
   "execution_count": 29,
   "id": "f1024a13",
   "metadata": {},
   "outputs": [
    {
     "name": "stdout",
     "output_type": "stream",
     "text": [
      "Country equal to AU\n"
     ]
    }
   ],
   "source": [
    "country = \"AU\"\n",
    "\n",
    "if country == \"AU\":\n",
    "    print(\"Country equal to AU\")\n",
    "else:\n",
    "    print(\"Country not equal to AU\")\n",
    "    "
   ]
  },
  {
   "cell_type": "code",
   "execution_count": null,
   "id": "168e95f5",
   "metadata": {},
   "outputs": [],
   "source": []
  },
  {
   "cell_type": "code",
   "execution_count": 22,
   "id": "e58f5bf0",
   "metadata": {},
   "outputs": [
    {
     "name": "stdout",
     "output_type": "stream",
     "text": [
      "Price of Total =151\n",
      "Free\n"
     ]
    }
   ],
   "source": [
    "total = int(input(\"Price of Total =\"))\n",
    "\n",
    "if total<=50:\n",
    "        \n",
    "    print(\"Shipping Cost is $25\")\n",
    "    \n",
    "elif total <=100:\n",
    "    \n",
    "    print(\"Shipping Cost is $50\")\n",
    "    \n",
    "elif total<=150:\n",
    "    \n",
    "    print(\"Shipping Cost is $5\")\n",
    "    \n",
    "else:\n",
    "    \n",
    "    print(\"Free\")"
   ]
  },
  {
   "cell_type": "code",
   "execution_count": 37,
   "id": "6fc85126",
   "metadata": {},
   "outputs": [
    {
     "name": "stdout",
     "output_type": "stream",
     "text": [
      "Found an even number 2\n",
      "Found an even number 4\n",
      "Found an even number 6\n",
      "Found an even number 8\n"
     ]
    }
   ],
   "source": [
    "#Task : write a program to find even or odd using for loop /range function.\n",
    "\n",
    "#Soln.\n",
    "\n",
    "for num in range(2, 10):\n",
    "\n",
    "    if num % 2 == 0:\n",
    "        print(\"Found an even number\", num)\n",
    "\n",
    "        continue\n",
    "\n",
    "        print(\"Found a number\", num)\n",
    "\n"
   ]
  },
  {
   "cell_type": "code",
   "execution_count": 38,
   "id": "e017c168",
   "metadata": {},
   "outputs": [
    {
     "name": "stdout",
     "output_type": "stream",
     "text": [
      "10\n",
      "11\n",
      "12\n",
      "13\n",
      "14\n"
     ]
    }
   ],
   "source": [
    "#Task :write two different loops for break if x is even number and continue when the number is divide by 5.\n",
    "\n",
    "#Soln.\n",
    "\n",
    "# use the break and continue statements\n",
    "\n",
    "for x in range (10,20):\n",
    "    if (x == 15): break\n",
    "    print(x)"
   ]
  },
  {
   "cell_type": "code",
   "execution_count": 47,
   "id": "cd31daeb",
   "metadata": {},
   "outputs": [
    {
     "name": "stdout",
     "output_type": "stream",
     "text": [
      "even 10\n",
      "11\n",
      "even 12\n",
      "13\n",
      "even 14\n",
      "15\n",
      "even 16\n",
      "17\n",
      "even 18\n",
      "19\n"
     ]
    }
   ],
   "source": [
    "\n",
    "for x in range (10,20):\n",
    "    if x % 2 == 0 :\n",
    "        print(\"even\",x)\n",
    "        continue\n",
    "    print(x)\n",
    "        "
   ]
  },
  {
   "cell_type": "code",
   "execution_count": 57,
   "id": "05bfb4d9",
   "metadata": {},
   "outputs": [
    {
     "name": "stdout",
     "output_type": "stream",
     "text": [
      "10\n",
      "11\n",
      "12\n",
      "13\n",
      "14\n"
     ]
    }
   ],
   "source": [
    "for x in range (10,20):\n",
    "\n",
    "    if (x == 15): break\n",
    "    print(x)\n",
    "\n",
    "   #if (x % 5 == 0) : continue"
   ]
  },
  {
   "cell_type": "code",
   "execution_count": 62,
   "id": "61af20cc",
   "metadata": {},
   "outputs": [
    {
     "name": "stdout",
     "output_type": "stream",
     "text": [
      "5th zeros 10\n",
      "11\n",
      "12\n",
      "13\n",
      "14\n",
      "5th zeros 15\n",
      "16\n",
      "17\n",
      "18\n",
      "19\n"
     ]
    }
   ],
   "source": [
    "for x in range (10,20):\n",
    "\n",
    "   #if (x == 15): break\n",
    "\n",
    "    if (x % 5 == 0) :\n",
    "        print(\"5th zeros\",x)\n",
    "        continue\n",
    "    print(x)"
   ]
  },
  {
   "cell_type": "code",
   "execution_count": 63,
   "id": "3d93d903",
   "metadata": {},
   "outputs": [
    {
     "name": "stdout",
     "output_type": "stream",
     "text": [
      "Given list: [10, 20, 33, 46, 55]\n",
      "Divisible by 5:\n",
      "10\n",
      "20\n",
      "55\n"
     ]
    }
   ],
   "source": [
    "#Task:\n",
    "\n",
    "#Display numbers divisible by 5 from a list.Iterate the given list of numbers and print only those numbers which are divisible by 5.\n",
    "\n",
    "#Solution:\n",
    "\n",
    "num_list = [10, 20, 33, 46, 55]\n",
    "\n",
    "print(\"Given list:\", num_list)\n",
    "\n",
    "print('Divisible by 5:')\n",
    "\n",
    "for num in num_list:\n",
    "\n",
    "    if num % 5 == 0:\n",
    "\n",
    "        print(num)"
   ]
  },
  {
   "cell_type": "code",
   "execution_count": 65,
   "id": "f2b6c4d6",
   "metadata": {},
   "outputs": [
    {
     "name": "stdout",
     "output_type": "stream",
     "text": [
      "Enter number 2\n",
      "\n",
      "\n",
      "Sum is:  3\n"
     ]
    }
   ],
   "source": [
    "#Task:\n",
    "\n",
    "#Calculate the sum of all numbers from 1 to a given number\n",
    "\n",
    "#Solution:\n",
    "\n",
    "# s: store sum of all numbers\n",
    "\n",
    "s = 0\n",
    "\n",
    "n = int(input(\"Enter number \"))\n",
    "\n",
    "# run loop n times\n",
    "\n",
    "# stop: n+1 (because range never include stop number in result)\n",
    "\n",
    "for i in range(1, n + 1, 1):\n",
    "\n",
    "    # add current number to sum variable\n",
    "\n",
    "    s =s+i\n",
    "\n",
    "print(\"\\n\")\n",
    "\n",
    "print(\"Sum is: \", s)"
   ]
  },
  {
   "cell_type": "code",
   "execution_count": 69,
   "id": "031685e3",
   "metadata": {},
   "outputs": [
    {
     "name": "stdout",
     "output_type": "stream",
     "text": [
      "sum is: 3\n"
     ]
    }
   ],
   "source": [
    "s=0\n",
    "for i in range(1,3,1):\n",
    "    s=s+i\n",
    "print(\"sum is:\",s)"
   ]
  },
  {
   "cell_type": "code",
   "execution_count": 70,
   "id": "fd373054",
   "metadata": {},
   "outputs": [
    {
     "name": "stdout",
     "output_type": "stream",
     "text": [
      "2\n",
      "4\n",
      "6\n",
      "8\n",
      "10\n",
      "12\n",
      "14\n",
      "16\n",
      "18\n",
      "20\n"
     ]
    }
   ],
   "source": [
    "#Task:\n",
    "\n",
    "#Write a program to print multiplication table of a given number\n",
    "\n",
    "#Solution:\n",
    "\n",
    "n = 2\n",
    "\n",
    "# stop: 11 (because range never include stop number in result)\n",
    "\n",
    "# run loop 10 times\n",
    "\n",
    "for i in range(1, 11, 1):\n",
    "\n",
    "    # 2 *i (current number)\n",
    "\n",
    "    product = n * i\n",
    "\n",
    "    print(product)"
   ]
  },
  {
   "cell_type": "code",
   "execution_count": 20,
   "id": "b7b26621",
   "metadata": {},
   "outputs": [
    {
     "data": {
      "text/plain": [
       "[-4, -2, 0, 2, 4]"
      ]
     },
     "execution_count": 20,
     "metadata": {},
     "output_type": "execute_result"
    }
   ],
   "source": [
    "#Practice below codes for list comprehension\n",
    "\n",
    "vec = [-4, -2, 0, 2, 4]\n",
    "vec"
   ]
  },
  {
   "cell_type": "code",
   "execution_count": 98,
   "id": "2b84ed6c",
   "metadata": {},
   "outputs": [
    {
     "name": "stdout",
     "output_type": "stream",
     "text": [
      "-8\n",
      "-4\n",
      "0\n",
      "4\n",
      "8\n"
     ]
    }
   ],
   "source": [
    " # create a new list with the values doubled\n",
    "for x in vec:\n",
    "    double=x*2\n",
    "    print(double)\n",
    "    "
   ]
  },
  {
   "cell_type": "code",
   "execution_count": 84,
   "id": "20a5bec6",
   "metadata": {},
   "outputs": [
    {
     "name": "stdout",
     "output_type": "stream",
     "text": [
      "-4\n",
      "-2\n",
      "0\n"
     ]
    }
   ],
   "source": [
    "# filter the list to exclude negative numbers\n",
    "\n",
    "for x in vec:\n",
    "    if (x <= 0):\n",
    "        print(x)"
   ]
  },
  {
   "cell_type": "code",
   "execution_count": 85,
   "id": "821c5b88",
   "metadata": {},
   "outputs": [
    {
     "name": "stdout",
     "output_type": "stream",
     "text": [
      "0\n",
      "2\n",
      "4\n"
     ]
    }
   ],
   "source": [
    "# filter the list to exclude negative numbers\n",
    "\n",
    "for x in vec:\n",
    "    if (x >= 0):\n",
    "        print(x)"
   ]
  },
  {
   "cell_type": "code",
   "execution_count": 88,
   "id": "9984005a",
   "metadata": {},
   "outputs": [
    {
     "name": "stdout",
     "output_type": "stream",
     "text": [
      "[-4, -2, 0, 2, 4] \n",
      "\n"
     ]
    }
   ],
   "source": [
    "# apply a function to all the elements\n",
    "\n",
    "for x in [vec]:\n",
    "    print(x,\"\\n\")"
   ]
  },
  {
   "cell_type": "code",
   "execution_count": 23,
   "id": "8481fa61",
   "metadata": {},
   "outputs": [
    {
     "data": {
      "text/plain": [
       "[4, 2, 0, 2, 4]"
      ]
     },
     "execution_count": 23,
     "metadata": {},
     "output_type": "execute_result"
    }
   ],
   "source": [
    "# Then abs () function is applied to all remaining elements of list. abs(x) function (absolute )\n",
    "#is used to return absolute values of numbers . It exclude negative or positive  signs and return only absolute value \n",
    "#of a number. For example abs(-5)=5 and abs(5)=5.\n",
    "\n",
    "#In your example for loop is used to apply abs function to all elements of list. At the end output gives only\n",
    "#absolute values of all numbers in list excluding any positive or negative sign.\n",
    "\n",
    "[abs(x) for x in vec]"
   ]
  },
  {
   "cell_type": "code",
   "execution_count": 24,
   "id": "68264611",
   "metadata": {},
   "outputs": [
    {
     "data": {
      "text/plain": [
       "[-4, -2, 0, 2, 4]"
      ]
     },
     "execution_count": 24,
     "metadata": {},
     "output_type": "execute_result"
    }
   ],
   "source": [
    "[x for x in vec]"
   ]
  },
  {
   "cell_type": "code",
   "execution_count": null,
   "id": "caa5e38b",
   "metadata": {},
   "outputs": [],
   "source": []
  },
  {
   "cell_type": "code",
   "execution_count": 95,
   "id": "ac732f36",
   "metadata": {},
   "outputs": [
    {
     "data": {
      "text/plain": [
       "[0, 2, 4]"
      ]
     },
     "execution_count": 95,
     "metadata": {},
     "output_type": "execute_result"
    }
   ],
   "source": [
    "[x for x in vec if x >= 0]\n",
    "\n"
   ]
  },
  {
   "cell_type": "code",
   "execution_count": 99,
   "id": "2c243cae",
   "metadata": {},
   "outputs": [
    {
     "data": {
      "text/plain": [
       "[-4, -2, 0]"
      ]
     },
     "execution_count": 99,
     "metadata": {},
     "output_type": "execute_result"
    }
   ],
   "source": [
    "[x for x in vec if x <= 0]"
   ]
  },
  {
   "cell_type": "code",
   "execution_count": 96,
   "id": "ffcbfeff",
   "metadata": {},
   "outputs": [
    {
     "data": {
      "text/plain": [
       "[-8, -4, 0, 4, 8]"
      ]
     },
     "execution_count": 96,
     "metadata": {},
     "output_type": "execute_result"
    }
   ],
   "source": [
    " [x*2 for x in vec]"
   ]
  },
  {
   "cell_type": "code",
   "execution_count": 89,
   "id": "1eced3f9",
   "metadata": {},
   "outputs": [
    {
     "data": {
      "text/plain": [
       "['banana', 'loganberry', 'passion fruit']"
      ]
     },
     "execution_count": 89,
     "metadata": {},
     "output_type": "execute_result"
    }
   ],
   "source": [
    "# call a method on each element\n",
    "\n",
    "freshfruit = [' banana', ' loganberry ', 'passion fruit ']\n",
    "\n",
    "[weapon.strip() for weapon in freshfruit]\n",
    "\n"
   ]
  },
  {
   "cell_type": "code",
   "execution_count": 8,
   "id": "80b45912",
   "metadata": {},
   "outputs": [
    {
     "data": {
      "text/plain": [
       "['banana', 'loganberry', 'passion fruit']"
      ]
     },
     "execution_count": 8,
     "metadata": {},
     "output_type": "execute_result"
    }
   ],
   "source": [
    "freshfruit = [' banana', ' loganberry ', 'passion fruit ']\n",
    "\n",
    "[weapon.strip()for weapon in freshfruit]\n",
    "\n",
    " #strip function remove  Strip() function is used remove whitespace characters from strings. Whitespace characters include spaces,\n",
    "    #tabs, newline characters.   \n"
   ]
  },
  {
   "cell_type": "code",
   "execution_count": 1,
   "id": "c1f8235f",
   "metadata": {},
   "outputs": [
    {
     "name": "stdout",
     "output_type": "stream",
     "text": [
      "[' banana', ' loganberry ', 'passion fruit ']\n"
     ]
    }
   ],
   "source": [
    "freshfruit = [' banana', ' loganberry ', 'passion fruit ']\n",
    "\n",
    "for weapon in [freshfruit]:\n",
    "    print(weapon,)"
   ]
  },
  {
   "cell_type": "code",
   "execution_count": 93,
   "id": "b7b8b64a",
   "metadata": {},
   "outputs": [
    {
     "data": {
      "text/plain": [
       "[(0, 0), (1, 1), (2, 4), (3, 9), (4, 16), (5, 25)]"
      ]
     },
     "execution_count": 93,
     "metadata": {},
     "output_type": "execute_result"
    }
   ],
   "source": [
    "# create a list of 2-tuples like (number, square)\n",
    "\n",
    "[(x, x**2) for x in range(6)]\n",
    "\n",
    "#see the output :\n",
    "\n",
    "[(0, 0), (1, 1), (2, 4), (3, 9), (4, 16), (5, 25)]\n",
    "\n"
   ]
  },
  {
   "cell_type": "code",
   "execution_count": 105,
   "id": "4bd8790e",
   "metadata": {},
   "outputs": [
    {
     "name": "stdout",
     "output_type": "stream",
     "text": [
      "9\n",
      "7\n",
      "5\n",
      "3\n",
      "1\n"
     ]
    }
   ],
   "source": [
    "#To loop over a sequence in reverse, first specify the sequence in a forward direction and then call the\n",
    "\n",
    "#reversed() function.\n",
    "\n",
    "for i in reversed (range(1, 10, 2)):\n",
    "    print(i)"
   ]
  },
  {
   "cell_type": "code",
   "execution_count": 106,
   "id": "d358ba53",
   "metadata": {},
   "outputs": [
    {
     "name": "stdout",
     "output_type": "stream",
     "text": [
      "1\n",
      "3\n",
      "5\n",
      "7\n",
      "9\n"
     ]
    }
   ],
   "source": [
    "for i in (range(1, 10, 2)):\n",
    "    print(i)"
   ]
  },
  {
   "cell_type": "markdown",
   "id": "781d3645",
   "metadata": {},
   "source": [
    "# If -Elif practice"
   ]
  },
  {
   "cell_type": "code",
   "execution_count": 109,
   "id": "b031676f",
   "metadata": {},
   "outputs": [
    {
     "name": "stdout",
     "output_type": "stream",
     "text": [
      "Day =Thursday\n",
      "Today is the day of Thor, the god of thunder.\n"
     ]
    }
   ],
   "source": [
    "today = input(\"Day =\")\n",
    "\n",
    " \n",
    "\n",
    "if today == 'Sunday':\n",
    "\n",
    "    print(\"Today is the day of the sun.\")\n",
    "\n",
    "elif today == 'Monday':\n",
    "\n",
    "    print(\"Today is the day of the moon.\")\n",
    "\n",
    "elif today == 'Tuesday':\n",
    "\n",
    "    print(\"Today is the day of Tyr, the god of war.\")\n",
    "\n",
    "elif today == 'Wednesday':\n",
    "\n",
    "    print(\"Today is the day of Odin, the supreme diety.\")\n",
    "\n",
    "elif today == 'Thursday':\n",
    "\n",
    "    print(\"Today is the day of Thor, the god of thunder.\")\n",
    "\n",
    "elif today == 'Friday':\n",
    "\n",
    "    print(\"Today is the day of Frigga, the goddess of beauty.\")\n",
    "\n",
    "elif today == 'Saturday':\n",
    "\n",
    "    print(\"Today is the day of Saturn, the god of fun and feasting.\")\n",
    "\n",
    "\n",
    " "
   ]
  },
  {
   "cell_type": "markdown",
   "id": "0b1a70c6",
   "metadata": {},
   "source": [
    "### Using `if`, `elif`, and `else` together\n",
    "\n",
    " \n",
    "\n",
    "You can also include an `else` statement at the end of a chain of `if`, `elif`... statements. This code within the `else` block is evaluated when none of the conditions hold true."
   ]
  },
  {
   "cell_type": "code",
   "execution_count": 110,
   "id": "237fc9a6",
   "metadata": {},
   "outputs": [
    {
     "name": "stdout",
     "output_type": "stream",
     "text": [
      "Day =funday\n",
      "Not Day its Dream\n"
     ]
    }
   ],
   "source": [
    "today = input(\"Day =\")\n",
    "\n",
    " \n",
    "\n",
    "if today == 'Sunday':\n",
    "\n",
    "    print(\"Today is the day of the sun.\")\n",
    "\n",
    "elif today == 'Monday':\n",
    "\n",
    "    print(\"Today is the day of the moon.\")\n",
    "\n",
    "elif today == 'Tuesday':\n",
    "\n",
    "    print(\"Today is the day of Tyr, the god of war.\")\n",
    "\n",
    "elif today == 'Wednesday':\n",
    "\n",
    "    print(\"Today is the day of Odin, the supreme diety.\")\n",
    "\n",
    "elif today == 'Thursday':\n",
    "\n",
    "    print(\"Today is the day of Thor, the god of thunder.\")\n",
    "\n",
    "elif today == 'Friday':\n",
    "\n",
    "    print(\"Today is the day of Frigga, the goddess of beauty.\")\n",
    "\n",
    "elif today == 'Saturday':\n",
    "\n",
    "    print(\"Today is the day of Saturn, the god of fun and feasting.\")\n",
    "else:\n",
    "    print(\"Not Day its Dream\")"
   ]
  },
  {
   "cell_type": "code",
   "execution_count": 124,
   "id": "17fc82cd",
   "metadata": {},
   "outputs": [
    {
     "name": "stdout",
     "output_type": "stream",
     "text": [
      "All checks failed!\n",
      "49 is not divisible by 2, 3 or 5\n"
     ]
    }
   ],
   "source": [
    "a_number = 49\n",
    "\n",
    " \n",
    "\n",
    "if a_number % 2 == 0:\n",
    "\n",
    "    print('{} is divisible by 2'.format(a_number))\n",
    "\n",
    "elif a_number % 3 == 0:\n",
    "\n",
    "    print('{} is divisible by 3'.format(a_number))\n",
    "\n",
    "elif a_number % 5 == 0:\n",
    "\n",
    "    print('{} is divisible by 5'.format(a_number))\n",
    "\n",
    "else:\n",
    "\n",
    "    print('All checks failed!')\n",
    "\n",
    "    print('{} is not divisible by 2, 3 or 5'.format(a_number))"
   ]
  },
  {
   "cell_type": "code",
   "execution_count": 15,
   "id": "b3b7b8a1",
   "metadata": {},
   "outputs": [
    {
     "name": "stdout",
     "output_type": "stream",
     "text": [
      "49 is divisible by 7\n"
     ]
    }
   ],
   "source": [
    "a_number = 49\n",
    "\n",
    " \n",
    "\n",
    "if a_number % 2 == 0:\n",
    "\n",
    "    print('{} is divisible by 2'.format(a_number))\n",
    "\n",
    "\n",
    "elif a_number % 3 == 0:\n",
    "\n",
    "    print('{} is divisible by 3'.format(a_number))\n",
    "\n",
    "\n",
    "elif a_number % 5 == 0:\n",
    "\n",
    "    print('{} is divisible by 5'.format(a_number))\n",
    "\n",
    "    \n",
    "elif a_number % 7 == 0:\n",
    "    print(\"{} is divisible by 7\".format(a_number))\n",
    "\n",
    "else:\n",
    "\n",
    "    print('All checks failed!')\n",
    "\n",
    "    print('{} is not divisible by 2, 3 or 5'.format(a_number))"
   ]
  },
  {
   "cell_type": "code",
   "execution_count": 14,
   "id": "3c5dbe14",
   "metadata": {},
   "outputs": [
    {
     "name": "stdout",
     "output_type": "stream",
     "text": [
      " is divisible by 7\n"
     ]
    }
   ],
   "source": [
    "a_number = 49\n",
    "\n",
    " \n",
    "\n",
    "if a_number % 2 == 0:\n",
    "\n",
    "    print(' is divisible by 2'.format(a_number))\n",
    "\n",
    "\n",
    "elif a_number % 3 == 0:\n",
    "\n",
    "    print(' is divisible by 3'.format(a_number))\n",
    "\n",
    "\n",
    "elif a_number % 5 == 0:\n",
    "\n",
    "    print('is divisible by 5'.format(a_number))\n",
    "\n",
    "    \n",
    "elif a_number % 7 == 0:\n",
    "    print(\" is divisible by 7\".format(a_number))\n",
    "\n",
    "else:\n",
    "\n",
    "    print('All checks failed!')\n",
    "\n",
    "    print('is not divisible by 2, 3 or 5'.format(a_number))"
   ]
  },
  {
   "cell_type": "code",
   "execution_count": 126,
   "id": "3ec633be",
   "metadata": {},
   "outputs": [
    {
     "name": "stdout",
     "output_type": "stream",
     "text": [
      "The value at position 0 is Monday.\n",
      "The value at position 1 is Tuesday.\n",
      "The value at position 2 is Wednesday.\n",
      "The value at position 3 is Thursday.\n",
      "The value at position 4 is Friday.\n"
     ]
    }
   ],
   "source": [
    "#Ranges are used for iterating over lists when you need to track the index of elements while iterating.\n",
    "\n",
    " \n",
    "\n",
    "a_list = ['Monday', 'Tuesday', 'Wednesday', 'Thursday', 'Friday']\n",
    "\n",
    " \n",
    "\n",
    "for i in range(len(a_list)):\n",
    "\n",
    "    print('The value at position {} is {}.'.format(i, a_list[i]))\n",
    "\n",
    " "
   ]
  },
  {
   "cell_type": "markdown",
   "id": "478c3502",
   "metadata": {},
   "source": [
    "break, continue and pass statements\n",
    "\n",
    "Similar to while loops, for loops also support the break and continue statements. break is used for breaking out of the loop and continue is used for skipping ahead to the next iteration."
   ]
  },
  {
   "cell_type": "code",
   "execution_count": 127,
   "id": "203fefd9",
   "metadata": {},
   "outputs": [
    {
     "name": "stdout",
     "output_type": "stream",
     "text": [
      "Today is Monday\n",
      "Today is Tuesday\n",
      "Today is Wednesday\n",
      "I don't work beyond Wednesday!\n",
      "Today is Monday\n",
      "Today is Tuesday\n",
      "I don't work on Wednesday!\n",
      "Today is Thursday\n",
      "Today is Friday\n"
     ]
    }
   ],
   "source": [
    "weekdays = ['Monday', 'Tuesday', 'Wednesday', 'Thursday', 'Friday']\n",
    "\n",
    " \n",
    "\n",
    "for day in weekdays:\n",
    "\n",
    "    print('Today is {}'.format(day))\n",
    "\n",
    "    if (day == 'Wednesday'):\n",
    "\n",
    "        print(\"I don't work beyond Wednesday!\")\n",
    "\n",
    "        break\n",
    "\n",
    " \n",
    "\n",
    " \n",
    "\n",
    "for day in weekdays:\n",
    "\n",
    "    if (day == 'Wednesday'):\n",
    "\n",
    "        print(\"I don't work on Wednesday!\")\n",
    "\n",
    "        continue\n",
    "\n",
    "    print('Today is {}'.format(day))"
   ]
  },
  {
   "cell_type": "code",
   "execution_count": 137,
   "id": "a8896cb9",
   "metadata": {},
   "outputs": [
    {
     "name": "stdout",
     "output_type": "stream",
     "text": [
      "Today is Monday\n",
      "Today is Tuesday\n",
      "I don't work on Wednesday!\n",
      "Today is Thursday\n",
      "Today is Friday\n"
     ]
    }
   ],
   "source": [
    "for day in weekdays:\n",
    "\n",
    "    if (day == 'Wednesday'):\n",
    "\n",
    "        print(\"I don't work on Wednesday!\")\n",
    "\n",
    "        continue\n",
    "\n",
    "    print('Today is {}'.format(day))"
   ]
  },
  {
   "cell_type": "code",
   "execution_count": 129,
   "id": "ba94da94",
   "metadata": {},
   "outputs": [
    {
     "name": "stdout",
     "output_type": "stream",
     "text": [
      "Today is Monday\n",
      "Today is Tuesday\n",
      "Today is Wednesday\n",
      "I don't work beyond Wednesday!\n"
     ]
    }
   ],
   "source": [
    "for day in weekdays:\n",
    "\n",
    "    print('Today is {}'.format(day))\n",
    "\n",
    "    if (day == 'Wednesday'):\n",
    "\n",
    "        print(\"I don't work beyond Wednesday!\")\n",
    "\n",
    "        break\n"
   ]
  },
  {
   "cell_type": "code",
   "execution_count": 135,
   "id": "28fcc207",
   "metadata": {},
   "outputs": [
    {
     "name": "stdout",
     "output_type": "stream",
     "text": [
      "Today is Monday\n",
      "Today is Tuesday\n",
      "Today is Wednesday\n",
      "I don't work beyond Wednesday!\n"
     ]
    }
   ],
   "source": [
    "# we can write like this also \n",
    "for day in weekdays:\n",
    "    \n",
    "    print('Today is',day)\n",
    "\n",
    "    if (day == 'Wednesday'):\n",
    "\n",
    "        print(\"I don't work beyond Wednesday!\")\n",
    "\n",
    "        break"
   ]
  },
  {
   "cell_type": "code",
   "execution_count": null,
   "id": "7dca7bfe",
   "metadata": {},
   "outputs": [],
   "source": []
  },
  {
   "cell_type": "markdown",
   "id": "02d32076",
   "metadata": {},
   "source": [
    "Questions for Revision\n",
    "\n",
    "Try answering the following questions to test your understanding of the topics covered ."
   ]
  },
  {
   "cell_type": "markdown",
   "id": "e058c9cc",
   "metadata": {},
   "source": [
    "1. What is branching in programming languages?\n",
    "\n",
    "A-Branching is the practice of creating copies of programs or objects in development to work in parallel versions, retaining the original and working on the branch or making different changes to each"
   ]
  },
  {
   "cell_type": "markdown",
   "id": "0f757e1b",
   "metadata": {},
   "source": [
    "2. What is the purpose of the if statement in Python?\n",
    "\n",
    "A-An if statement is a condition statement used to check a condition, and execute it if the condition holds true. It is also a control flow statement, which utilizes decision-making to control the flow of execution"
   ]
  },
  {
   "cell_type": "markdown",
   "id": "9432fbf9",
   "metadata": {},
   "source": [
    "3. What is the syntax of the if statement? Give an example.\n",
    "\n",
    "A-The syntax for if statement is as follows: if (condition) instruction; The condition evaluates to either true or false. True is always a non-zero value, and false is a value that contains zero.eg.if(70<=90) grde a.\n"
   ]
  },
  {
   "cell_type": "markdown",
   "id": "148c7919",
   "metadata": {},
   "source": [
    "4. What is indentation? Why is it used?\n",
    "\n",
    "A-The primary purpose of indentation in Python is to define the scope of statements, such as those within loops, conditionals, functions, and classes. Consistent and proper indentation is crucial for the interpreter to understand the logical structure of the code."
   ]
  },
  {
   "cell_type": "markdown",
   "id": "00685c24",
   "metadata": {},
   "source": [
    "5. What is an indented block of statements?\n",
    "\n",
    "A-The indented block tells Python that the code within the block is relevant to the statement. This s}tructure is fundamental to the Python programming language, so it's no surprise incorrectly indenting things can make scripts malfunction!"
   ]
  },
  {
   "cell_type": "markdown",
   "id": "d6011299",
   "metadata": {},
   "source": [
    "6. How do you perform indentation in Python?\n",
    "\n",
    "A- We can perform by use either whitespace or tabs to indent;"
   ]
  },
  {
   "cell_type": "markdown",
   "id": "b31fc4cc",
   "metadata": {},
   "source": [
    "7. What happens if some code is not indented correctly?\n",
    "\n",
    "A- if any code not indented correctly the interpreter will return an error function."
   ]
  },
  {
   "cell_type": "markdown",
   "id": "b02de297",
   "metadata": {},
   "source": [
    "8. What happens when the condition within the if statement evaluates to True? What happens if the condition evaluates for false?\n",
    "\n",
    "A-These conditions are known as Boolean conditions because they may only be true or false.\n",
    "\n",
    "When the condition evaluates to true , the program executes the statement inside the curly braces. \n",
    "\n",
    "When the Boolean condition evaluates to false , the statement inside the curly braces will not execute."
   ]
  },
  {
   "cell_type": "markdown",
   "id": "60c3cb87",
   "metadata": {},
   "source": [
    "9. How do you check if a number is even?\n",
    "\n",
    "A- we can check if condtion is even or not by Modulo symbol divisible by 2\n",
    "any no.%2 == 0"
   ]
  },
  {
   "cell_type": "markdown",
   "id": "ade4ba8f",
   "metadata": {},
   "source": [
    "10. What is the purpose of the else statement in Python?\n",
    "\n",
    "A-The if-else statement is used to execute both the true part and the false part of a given condition. If the condition is true, the if block code is executed and if the condition is false, the else block code is executed"
   ]
  },
  {
   "cell_type": "markdown",
   "id": "57a7aead",
   "metadata": {},
   "source": [
    "11. What is the syntax of the else statement? Give an example.  \n",
    "\n",
    "A-If condition returns true then the statements inside the body of “if” are executed and the statements inside body of “else” are skipped."
   ]
  },
  {
   "cell_type": "markdown",
   "id": "bab8728d",
   "metadata": {},
   "source": [
    "12. Write a program that prints different messages based on whether a number is positive or negative.\n",
    "\n",
    "A- if n == 0: print(\"It is Zero! \") \n",
    "#If the number is greater than zero, print that it is a positive number. \n",
    "else: print(\"Number is Positive number. \") \n",
    "#If the number is less than zero, print that it is a negative number."
   ]
  },
  {
   "cell_type": "markdown",
   "id": "aa3a9763",
   "metadata": {},
   "source": [
    "13. Can the else statement be used without an if statement?\n",
    "\n",
    "A-No, you cannot have multiple \"else if\" statements without a preceding \"if\" statement"
   ]
  },
  {
   "cell_type": "markdown",
   "id": "971e4074",
   "metadata": {},
   "source": [
    "14. What is the purpose of the elif statement in Python?\n",
    "\n",
    "A- 'Elif' stands for 'else if' and is used in Python programming to test multiple conditions.\n",
    "\n",
    "It is written following an if statement in Python to check an alternative condition if the first condition is false. The code block under the elif statement will be executed only if its condition is true."
   ]
  },
  {
   "cell_type": "markdown",
   "id": "70b120f0",
   "metadata": {},
   "source": [
    "15. What is the syntax of the elif statement? Give an example.\n",
    "\n",
    "A- f 51<5: print(\"False, statement skipped\")\n",
    "elif 0<5: print(\"true, block executed\") \n",
    "elif 0<3: print(\"true, but block will not execute\") \n",
    "else: print(\"If all fails.\")"
   ]
  },
  {
   "cell_type": "markdown",
   "id": "1c3aed61",
   "metadata": {},
   "source": [
    "16. Write a program that prints different messages for different months of the year.\n",
    "\n",
    "A- "
   ]
  },
  {
   "cell_type": "markdown",
   "id": "829ad3a4",
   "metadata": {},
   "source": [
    "17. Can the elif statement be used without an if statement?\n",
    "\n",
    "A-We can use the if statement without using the elif and else."
   ]
  },
  {
   "cell_type": "markdown",
   "id": "14a10988",
   "metadata": {},
   "source": [
    "18. Can the elif statement be used without an else statement?\n",
    "\n",
    "A- we can not use else statement wthou using elif statement.\n"
   ]
  },
  {
   "cell_type": "code",
   "execution_count": 2,
   "id": "9e650145",
   "metadata": {},
   "outputs": [
    {
     "name": "stdout",
     "output_type": "stream",
     "text": [
      "49 is divisible by 7\n"
     ]
    }
   ],
   "source": [
    "#19. Write a program that uses if, elif, and else statements together.\n",
    "\n",
    "#A-\n",
    "a_number = 49\n",
    "\n",
    " \n",
    "\n",
    "if a_number % 2 == 0:\n",
    "\n",
    "    print('{} is divisible by 2'.format(a_number))\n",
    "\n",
    "\n",
    "elif a_number % 3 == 0:\n",
    "\n",
    "    print('{} is divisible by 3'.format(a_number))\n",
    "\n",
    "\n",
    "elif a_number % 5 == 0:\n",
    "\n",
    "    print('{} is divisible by 5'.format(a_number))\n",
    "\n",
    "    \n",
    "elif a_number % 7 == 0:\n",
    "    print(\"{} is divisible by 7\".format(a_number))\n",
    "\n",
    "else:\n",
    "\n",
    "    print('All checks failed!')\n",
    "\n",
    "    print('{} is not divisible by 2, 3 or 5'.format(a_number))"
   ]
  },
  {
   "cell_type": "code",
   "execution_count": null,
   "id": "02bd3cf5",
   "metadata": {},
   "outputs": [],
   "source": []
  },
  {
   "cell_type": "code",
   "execution_count": null,
   "id": "eb8e2ac2",
   "metadata": {},
   "outputs": [],
   "source": []
  }
 ],
 "metadata": {
  "kernelspec": {
   "display_name": "Python 3 (ipykernel)",
   "language": "python",
   "name": "python3"
  },
  "language_info": {
   "codemirror_mode": {
    "name": "ipython",
    "version": 3
   },
   "file_extension": ".py",
   "mimetype": "text/x-python",
   "name": "python",
   "nbconvert_exporter": "python",
   "pygments_lexer": "ipython3",
   "version": "3.11.5"
  }
 },
 "nbformat": 4,
 "nbformat_minor": 5
}
