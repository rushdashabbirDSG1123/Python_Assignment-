{
 "cells": [
  {
   "cell_type": "markdown",
   "id": "4b391390",
   "metadata": {},
   "source": [
    "# Practice Assignment 5"
   ]
  },
  {
   "cell_type": "code",
   "execution_count": 1,
   "id": "dd0feb22",
   "metadata": {},
   "outputs": [
    {
     "name": "stdout",
     "output_type": "stream",
     "text": [
      "16\n"
     ]
    }
   ],
   "source": [
    "def square(x):\n",
    "   return x*x\n",
    "print(square(4))"
   ]
  },
  {
   "cell_type": "code",
   "execution_count": 2,
   "id": "c3d440c3",
   "metadata": {},
   "outputs": [
    {
     "name": "stdout",
     "output_type": "stream",
     "text": [
      "16\n"
     ]
    }
   ],
   "source": [
    "def square(x):\n",
    "    return x*x\n",
    "x=4\n",
    "print(square(x))"
   ]
  },
  {
   "cell_type": "code",
   "execution_count": 3,
   "id": "bd252014",
   "metadata": {},
   "outputs": [
    {
     "name": "stdout",
     "output_type": "stream",
     "text": [
      "The sum is 11\n"
     ]
    }
   ],
   "source": [
    "def add_numbers(x,y):\n",
    "   sum = x + y\n",
    "   return sum\n",
    "num1 = 5\n",
    "num2 = 6\n",
    "print(\"The sum is\", add_numbers(num1, num2))\n"
   ]
  },
  {
   "cell_type": "code",
   "execution_count": 4,
   "id": "bce1aecb",
   "metadata": {},
   "outputs": [
    {
     "name": "stdout",
     "output_type": "stream",
     "text": [
      "the sum is 12\n"
     ]
    }
   ],
   "source": [
    "def add_numbers(x,y):\n",
    "    sum=x+y\n",
    "    return sum\n",
    "num1=4\n",
    "num2=8\n",
    "print(\"the sum is\",add_numbers(num1,num2))"
   ]
  },
  {
   "cell_type": "code",
   "execution_count": 5,
   "id": "ce76f0cf",
   "metadata": {},
   "outputs": [
    {
     "name": "stdout",
     "output_type": "stream",
     "text": [
      "Hello Andrew, Good morning!\n"
     ]
    }
   ],
   "source": [
    "def greet(name, msg):\n",
    "    \"\"\"This function greets to\n",
    "    the person with the provided message\"\"\"\n",
    "    print(\"Hello\", name + ', ' + msg)\n",
    "greet(\"Andrew\", \"Good morning!\") # call function this"
   ]
  },
  {
   "cell_type": "code",
   "execution_count": 6,
   "id": "da87d48d",
   "metadata": {},
   "outputs": [
    {
     "name": "stdout",
     "output_type": "stream",
     "text": [
      "Hello Andrew, good Morning\n"
     ]
    }
   ],
   "source": [
    "greet(\"Andrew\",\"good Morning\")"
   ]
  },
  {
   "cell_type": "markdown",
   "id": "d84abca7",
   "metadata": {},
   "source": [
    "# Task:\n",
    "Write a program to create a function that takes two arguments, name and age, and print their value."
   ]
  },
  {
   "cell_type": "code",
   "execution_count": 7,
   "id": "ccea5eef",
   "metadata": {},
   "outputs": [
    {
     "name": "stdout",
     "output_type": "stream",
     "text": [
      "values Rushda 23\n"
     ]
    }
   ],
   "source": [
    "def Create_func(name, age):\n",
    "    nam = \"Rushda\"\n",
    "    Age = 23\n",
    "    print(\"values\", name, age)\n",
    "\n",
    "Create_func(\"Rushda\", 23)"
   ]
  },
  {
   "cell_type": "code",
   "execution_count": 8,
   "id": "f3c3915a",
   "metadata": {},
   "outputs": [
    {
     "name": "stdout",
     "output_type": "stream",
     "text": [
      "detail: rushda 23\n"
     ]
    }
   ],
   "source": [
    "def Creat_func(name,age):\n",
    "    nam=\"rushda\"\n",
    "    ages= 23\n",
    "    print(\"detail:\",name,age)\n",
    "Creat_func(\"rushda\",23)"
   ]
  },
  {
   "cell_type": "code",
   "execution_count": 9,
   "id": "a4efa236",
   "metadata": {},
   "outputs": [
    {
     "name": "stdout",
     "output_type": "stream",
     "text": [
      "values Rushda 23\n"
     ]
    }
   ],
   "source": [
    "def Create_func(name, age):\n",
    "    print(\"values\", name, age)\n",
    "    nam = \"Rushda\"\n",
    "    Age = 23\n",
    "\n",
    "Create_func(\"Rushda\",23)"
   ]
  },
  {
   "cell_type": "code",
   "execution_count": 10,
   "id": "fa85004e",
   "metadata": {},
   "outputs": [
    {
     "name": "stdout",
     "output_type": "stream",
     "text": [
      "values SomeName 30\n"
     ]
    }
   ],
   "source": [
    "def Create_func(name=\"Rushda\", age=23):\n",
    "    print(\"values\", name, age)\n",
    "\n",
    "nam = \"SomeName\"\n",
    "Age = 30\n",
    "Create_func(nam, Age)"
   ]
  },
  {
   "cell_type": "code",
   "execution_count": 11,
   "id": "f1e2dd42",
   "metadata": {},
   "outputs": [
    {
     "name": "stdout",
     "output_type": "stream",
     "text": [
      "2\n",
      "4\n"
     ]
    }
   ],
   "source": [
    "#Task : Write a function absolute_value to find absolute of a given number.\n",
    "#Soln.\n",
    "def absolute_value(num):\n",
    "    \"\"\"This function returns the absolute\n",
    "    value of the entered number\"\"\"\n",
    "    if num >= 0:\n",
    "        return num\n",
    "    else:\n",
    "        return -num\n",
    "print(absolute_value(2))\n",
    "print(absolute_value(-4))\n"
   ]
  },
  {
   "cell_type": "code",
   "execution_count": 12,
   "id": "7e8fadc9",
   "metadata": {},
   "outputs": [
    {
     "name": "stdout",
     "output_type": "stream",
     "text": [
      "values 0.1\n",
      "-0.1\n"
     ]
    }
   ],
   "source": [
    "def give_val(num):\n",
    "    print(\"values\",num)\n",
    "    if num>=2:\n",
    "        return num\n",
    "    else:\n",
    "        return -num\n",
    "\n",
    "print(give_val(0.1))"
   ]
  },
  {
   "cell_type": "code",
   "execution_count": 13,
   "id": "a271e6da",
   "metadata": {},
   "outputs": [
    {
     "name": "stdout",
     "output_type": "stream",
     "text": [
      "4\n"
     ]
    }
   ],
   "source": [
    "def give_val(num):\n",
    "    if num>=0:\n",
    "        return num\n",
    "    else:\n",
    "        return -num\n",
    "\n",
    "print(give_val(4))"
   ]
  },
  {
   "cell_type": "code",
   "execution_count": 14,
   "id": "5a2c84fd",
   "metadata": {},
   "outputs": [
    {
     "name": "stdout",
     "output_type": "stream",
     "text": [
      "values 2\n"
     ]
    }
   ],
   "source": [
    "def give_val(num):\n",
    "    if num>=0:\n",
    "        return num\n",
    "    else:\n",
    "        return -num\n",
    "print(\"values\",give_val(2))\n"
   ]
  },
  {
   "cell_type": "code",
   "execution_count": 15,
   "id": "68785ce0",
   "metadata": {},
   "outputs": [
    {
     "name": "stdout",
     "output_type": "stream",
     "text": [
      "value of x= 2\n",
      "value of y= 4\n",
      "8\n"
     ]
    }
   ],
   "source": [
    "#Task : write a function multiply to calculate multiplication of two numbers by taking as a arguments.\n",
    "#Soln.\n",
    "def multiply(x,y):\n",
    "    print(\"value of x=\",x)\n",
    "    print(\"value of y=\",y)\n",
    "    return x*y\n",
    "print(multiply(2,4))"
   ]
  },
  {
   "cell_type": "code",
   "execution_count": 16,
   "id": "b4a0803b",
   "metadata": {},
   "outputs": [
    {
     "name": "stdout",
     "output_type": "stream",
     "text": [
      "val = x: 11\n",
      "val = x: 12\n",
      "132\n"
     ]
    }
   ],
   "source": [
    "def multiply(x,y):\n",
    "    print(\"val = x:\",x)\n",
    "    print(\"val = x:\",y)\n",
    "    return x*y\n",
    "s=11\n",
    "d=12\n",
    "print(multiply(s,d))"
   ]
  },
  {
   "cell_type": "code",
   "execution_count": 17,
   "id": "04e206a0",
   "metadata": {},
   "outputs": [
    {
     "name": "stdout",
     "output_type": "stream",
     "text": [
      "Value inside function: 10\n",
      "Value outside function: 20\n"
     ]
    }
   ],
   "source": [
    "#Task : write a function division to calculate division of two numbers by taking as a arguments.\n",
    "# local variables and global variables\n",
    "def my_func():\n",
    " x = 10\n",
    " print(\"Value inside function:\",x)\n",
    "x = 20\n",
    "my_func()\n",
    "print(\"Value outside function:\",x)\n",
    "squares = list(map(lambda x: x**2, range(10)))\n",
    "squares = [x**2 for x in range(10)]\n"
   ]
  },
  {
   "cell_type": "code",
   "execution_count": 18,
   "id": "9ae5fce0",
   "metadata": {},
   "outputs": [
    {
     "name": "stdout",
     "output_type": "stream",
     "text": [
      "outside the function: 10\n",
      "insided the function 20\n"
     ]
    }
   ],
   "source": [
    "def my_func():\n",
    "    x=20\n",
    "    print(\"insided the function\",x)\n",
    "x=10\n",
    "print(\"outside the function:\",x)\n",
    "my_func()\n"
   ]
  },
  {
   "cell_type": "code",
   "execution_count": 19,
   "id": "72e07ea9",
   "metadata": {},
   "outputs": [
    {
     "data": {
      "text/plain": [
       "[0, 1, 4, 9, 16, 25, 36, 49, 64, 81]"
      ]
     },
     "execution_count": 19,
     "metadata": {},
     "output_type": "execute_result"
    }
   ],
   "source": [
    "squares = list(map(lambda x: x**2, range(10)))\n",
    "squares\n"
   ]
  },
  {
   "cell_type": "code",
   "execution_count": 20,
   "id": "638b7b6c",
   "metadata": {},
   "outputs": [
    {
     "data": {
      "text/plain": [
       "[0, 1, 4, 9, 16, 25, 36, 49, 64, 81]"
      ]
     },
     "execution_count": 20,
     "metadata": {},
     "output_type": "execute_result"
    }
   ],
   "source": [
    "squares = [x**2 for x in range(10)]\n",
    "squares"
   ]
  },
  {
   "cell_type": "code",
   "execution_count": 21,
   "id": "a31ce459",
   "metadata": {},
   "outputs": [],
   "source": [
    "squares = list(map(lambda x: x**2, range(10)))\n",
    "squares = [x**2 for x in range(10)]\n",
    "#both are gives same result"
   ]
  },
  {
   "cell_type": "code",
   "execution_count": 22,
   "id": "2fd6f329",
   "metadata": {},
   "outputs": [
    {
     "name": "stdout",
     "output_type": "stream",
     "text": [
      "[100, 4, 64, 49, 25, 16, 9, 121, 0, 1]\n"
     ]
    }
   ],
   "source": [
    "#Task : Write the above code to find cube of x.\n",
    "sequences = [10,2,8,7,5,4,3,11,0, 1]\n",
    "filtered_result = map (lambda x: x*x, sequences)\n",
    "print(list(filtered_result))\n"
   ]
  },
  {
   "cell_type": "code",
   "execution_count": 23,
   "id": "0cbe999a",
   "metadata": {},
   "outputs": [
    {
     "name": "stdout",
     "output_type": "stream",
     "text": [
      "[100, 4, 64, 49, 25, 16, 9, 121, 0, 1]\n"
     ]
    }
   ],
   "source": [
    "sequences=[10,2,8,7,5,4,3,11,0,1]\n",
    "result= [x*x for x in sequences]\n",
    "print(result)\n"
   ]
  },
  {
   "cell_type": "code",
   "execution_count": 24,
   "id": "be529afd",
   "metadata": {},
   "outputs": [
    {
     "name": "stdout",
     "output_type": "stream",
     "text": [
      "[100, None, None, None, None, None, None, 121, None, None]\n"
     ]
    }
   ],
   "source": [
    "sequences = [10, 2, 8, 7, 5, 4, 3, 11, 0, 1]\n",
    "result = [x * x if x >= 10 else None for x in sequences]\n",
    "print(result)"
   ]
  },
  {
   "cell_type": "code",
   "execution_count": 25,
   "id": "58553aa6",
   "metadata": {},
   "outputs": [
    {
     "name": "stdout",
     "output_type": "stream",
     "text": [
      "[100, 4, 64, 49, 25, 16, 9, 121, 0, 1]\n",
      "100\n",
      "less\n",
      "64\n",
      "less\n",
      "less\n",
      "less\n",
      "less\n",
      "121\n",
      "less\n",
      "less\n"
     ]
    }
   ],
   "source": [
    "sequences=[10,2,8,7,5,4,3,11,0,1]\n",
    "result= [x*x for x in sequences]\n",
    "print(result)\n",
    "for item in result:\n",
    "    if item >=50:\n",
    "        print(item)\n",
    "    else:\n",
    "        print(\"less\")\n",
    "        "
   ]
  },
  {
   "cell_type": "code",
   "execution_count": 36,
   "id": "bec88adf",
   "metadata": {},
   "outputs": [
    {
     "name": "stdout",
     "output_type": "stream",
     "text": [
      "[1000, 8, 512, 343, 125, 64, 27, 1331, 0, 1]\n"
     ]
    }
   ],
   "source": [
    "#Task : write the above code for the expression x**3\n",
    "list3=[10,2,8,7,5,4,3,11,0, 1]\n",
    "result=[x**3 for x in list3]\n",
    "print(result)\n"
   ]
  },
  {
   "cell_type": "code",
   "execution_count": 27,
   "id": "863b015e",
   "metadata": {},
   "outputs": [
    {
     "name": "stdout",
     "output_type": "stream",
     "text": [
      "[10, 8, 7, 5, 11]\n"
     ]
    }
   ],
   "source": [
    "list2= [10,2,8,7,5,4,3,11,0, 1]\n",
    "filtered_result = filter (lambda x: x > 4, list2)\n",
    "print(list(filtered_result))\n"
   ]
  },
  {
   "cell_type": "code",
   "execution_count": 37,
   "id": "cc5f1ea0",
   "metadata": {},
   "outputs": [
    {
     "name": "stdout",
     "output_type": "stream",
     "text": [
      "[<class 'filter'>, <class 'filter'>, <class 'filter'>, <class 'filter'>, <class 'filter'>]\n"
     ]
    }
   ],
   "source": [
    "list2= [10,2,8,7,5,4,3,11,0, 1]\n",
    "filtered_result = [filter for x in list2 if x>4]\n",
    "print(filtered_result)"
   ]
  },
  {
   "cell_type": "code",
   "execution_count": 38,
   "id": "90d748e9",
   "metadata": {},
   "outputs": [
    {
     "name": "stdout",
     "output_type": "stream",
     "text": [
      "[10, 8, 7, 5, 11]\n"
     ]
    }
   ],
   "source": [
    "list2= [10,2,8,7,5,4,3,11,0, 1]\n",
    "filtered_result = [x for x in list2 if x>4]\n",
    "print(filtered_result)"
   ]
  },
  {
   "cell_type": "code",
   "execution_count": 29,
   "id": "ef97346b",
   "metadata": {},
   "outputs": [
    {
     "name": "stdout",
     "output_type": "stream",
     "text": [
      "[10, 8, 7, 11]\n"
     ]
    }
   ],
   "source": [
    "#Task : write the above code for the expression x>5.\n",
    "list2=[10, 2, 8, 7, 5, 4, 3, 11, 0, 1]\n",
    "filtered_result = filter(lambda x: x > 5, list2)\n",
    "print(list(filtered_result))\n"
   ]
  },
  {
   "cell_type": "code",
   "execution_count": 30,
   "id": "024cad20",
   "metadata": {},
   "outputs": [
    {
     "name": "stdout",
     "output_type": "stream",
     "text": [
      "[0, 1, 4, 9, 16, 25, 36, 49, 64, 81]\n"
     ]
    }
   ],
   "source": [
    "squares = []\n",
    "for x in range(10):\n",
    "    squares.append(x**2)\n",
    "print(squares)"
   ]
  },
  {
   "cell_type": "markdown",
   "id": "f9bc4772",
   "metadata": {},
   "source": [
    "# 1. Put the above 4 lines in as user defined function and call the function\n"
   ]
  },
  {
   "cell_type": "code",
   "execution_count": 31,
   "id": "439c75bb",
   "metadata": {},
   "outputs": [
    {
     "name": "stdout",
     "output_type": "stream",
     "text": [
      "value n: 10\n",
      "value m: 5\n",
      "c 5\n"
     ]
    }
   ],
   "source": [
    "def subtraction(n,m):\n",
    "    print(\"value n:\",n)\n",
    "    print(\"value m:\",m)\n",
    "    c=n-m\n",
    "    return c\n",
    "    \n",
    "a=10\n",
    "b=5\n",
    "print(\"c\",subtraction(a,b))"
   ]
  },
  {
   "cell_type": "markdown",
   "id": "121c08ef",
   "metadata": {},
   "source": [
    "# 2.Given two integer numbers return their product only if the product is equal to or lower than 1000, else return their sum."
   ]
  },
  {
   "cell_type": "code",
   "execution_count": 32,
   "id": "d73989d1",
   "metadata": {},
   "outputs": [
    {
     "name": "stdout",
     "output_type": "stream",
     "text": [
      "sum: 80\n",
      "Product: 600\n"
     ]
    }
   ],
   "source": [
    "def product_func(num1,num2):\n",
    "    product=num1*num2\n",
    "    if product <=1000:\n",
    "        return product\n",
    "    else:\n",
    "        return num1 + num2\n",
    "v=20\n",
    "y=60\n",
    "result=(product_func(v,y))\n",
    "print(\"sum:\",result)\n",
    "\n",
    "                            #OR\n",
    "    \n",
    "def product_func(num1,num2):\n",
    "    product=num1*num2\n",
    "    if product <=1000:\n",
    "        return product\n",
    "    else:\n",
    "        return num1 + num2\n",
    "\n",
    "\n",
    "result=(product_func(20,30))\n",
    "print(\"Product:\",result)\n",
    "\n",
    "    "
   ]
  },
  {
   "cell_type": "code",
   "execution_count": 33,
   "id": "6ecdf850",
   "metadata": {},
   "outputs": [
    {
     "name": "stdout",
     "output_type": "stream",
     "text": [
      "product1: 600\n",
      "Product: None\n"
     ]
    }
   ],
   "source": [
    "def product_func(num1,num2):\n",
    "    product=num1*num2\n",
    "    if product <=1000:\n",
    "        print(\"product1:\",product)\n",
    "    else:\n",
    "        return print(\"Add:\",num1 + num2)\n",
    "\n",
    "\n",
    "result=(product_func(20,30))\n",
    "print(\"Product:\",result)"
   ]
  },
  {
   "cell_type": "code",
   "execution_count": 34,
   "id": "9de1d639",
   "metadata": {},
   "outputs": [
    {
     "name": "stdout",
     "output_type": "stream",
     "text": [
      "Add: 80\n",
      "Final Product: None\n"
     ]
    }
   ],
   "source": [
    "def product_func(num1,num2):\n",
    "    product=num1*num2\n",
    "    if product <=1000:\n",
    "        print(\"product1:\",product)\n",
    "    else:\n",
    "        return print(\"Add:\",num1 + num2)\n",
    "\n",
    "\n",
    "result=(product_func(20,60))\n",
    "print(\"Final Product:\",result)"
   ]
  },
  {
   "cell_type": "code",
   "execution_count": 35,
   "id": "562c579b",
   "metadata": {},
   "outputs": [
    {
     "name": "stdout",
     "output_type": "stream",
     "text": [
      "Given list: [10, 20, 30, 40, 10]\n",
      "result is True\n",
      "Given list: [75, 65, 35, 75, 30]\n",
      "result is False\n"
     ]
    }
   ],
   "source": [
    "\n",
    "#Task: Check if the first and last number of a list is the same.\n",
    "#Write a function to return True if the first and last number of a given list is same. If numbers are different then return False.\n",
    "#Solution:\n",
    "def first_last_same(numberList):\n",
    "    print(\"Given list:\", numberList)\n",
    "    first_num = numberList[0]\n",
    "    last_num = numberList[-1]\n",
    "    if first_num == last_num:\n",
    "        return True\n",
    "    else:\n",
    "        return False\n",
    "numbers_x = [10, 20, 30, 40, 10]\n",
    "print(\"result is\", first_last_same(numbers_x))\n",
    "numbers_y = [75, 65, 35, 75, 30]\n",
    "print(\"result is\", first_last_same(numbers_y))\n"
   ]
  },
  {
   "cell_type": "code",
   "execution_count": null,
   "id": "f47756fb",
   "metadata": {},
   "outputs": [],
   "source": []
  }
 ],
 "metadata": {
  "kernelspec": {
   "display_name": "Python 3 (ipykernel)",
   "language": "python",
   "name": "python3"
  },
  "language_info": {
   "codemirror_mode": {
    "name": "ipython",
    "version": 3
   },
   "file_extension": ".py",
   "mimetype": "text/x-python",
   "name": "python",
   "nbconvert_exporter": "python",
   "pygments_lexer": "ipython3",
   "version": "3.11.5"
  }
 },
 "nbformat": 4,
 "nbformat_minor": 5
}
