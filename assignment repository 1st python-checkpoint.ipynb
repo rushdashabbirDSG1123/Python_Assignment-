{
 "cells": [
  {
   "cell_type": "markdown",
   "id": "8de08ce3",
   "metadata": {},
   "source": [
    "# practice assignment and repository"
   ]
  },
  {
   "cell_type": "code",
   "execution_count": 1,
   "id": "f282d6ed",
   "metadata": {},
   "outputs": [
    {
     "data": {
      "text/plain": [
       "12"
      ]
     },
     "execution_count": 1,
     "metadata": {},
     "output_type": "execute_result"
    }
   ],
   "source": [
    "8+4"
   ]
  },
  {
   "cell_type": "code",
   "execution_count": 2,
   "id": "0c70980e",
   "metadata": {},
   "outputs": [
    {
     "data": {
      "text/plain": [
       "80"
      ]
     },
     "execution_count": 2,
     "metadata": {},
     "output_type": "execute_result"
    }
   ],
   "source": [
    "16*5"
   ]
  },
  {
   "cell_type": "code",
   "execution_count": 3,
   "id": "38f89871",
   "metadata": {},
   "outputs": [
    {
     "data": {
      "text/plain": [
       "20"
      ]
     },
     "execution_count": 3,
     "metadata": {},
     "output_type": "execute_result"
    }
   ],
   "source": [
    "50-5*6"
   ]
  },
  {
   "cell_type": "code",
   "execution_count": 4,
   "id": "36db9faf",
   "metadata": {},
   "outputs": [
    {
     "data": {
      "text/plain": [
       "5.0"
      ]
     },
     "execution_count": 4,
     "metadata": {},
     "output_type": "execute_result"
    }
   ],
   "source": [
    "(50-5*6)/4"
   ]
  },
  {
   "cell_type": "code",
   "execution_count": null,
   "id": "37904ca8",
   "metadata": {},
   "outputs": [],
   "source": [
    "# comments\n",
    "#this is my 1st program"
   ]
  },
  {
   "cell_type": "code",
   "execution_count": 5,
   "id": "ced95c2a",
   "metadata": {},
   "outputs": [
    {
     "name": "stdout",
     "output_type": "stream",
     "text": [
      "Hello\n"
     ]
    }
   ],
   "source": [
    "print(\"Hello\")"
   ]
  },
  {
   "cell_type": "code",
   "execution_count": 6,
   "id": "c7d53a75",
   "metadata": {},
   "outputs": [],
   "source": [
    "greeting=\"Hello words of python\""
   ]
  },
  {
   "cell_type": "code",
   "execution_count": 7,
   "id": "7429f52d",
   "metadata": {},
   "outputs": [
    {
     "name": "stdout",
     "output_type": "stream",
     "text": [
      "Hello words of python\n"
     ]
    }
   ],
   "source": [
    "print(greeting)"
   ]
  },
  {
   "cell_type": "code",
   "execution_count": 8,
   "id": "b3aa1b4b",
   "metadata": {},
   "outputs": [
    {
     "data": {
      "text/plain": [
       "1.6"
      ]
     },
     "execution_count": 8,
     "metadata": {},
     "output_type": "execute_result"
    }
   ],
   "source": [
    "8 / 5\n",
    "# division always returns a floating point number"
   ]
  },
  {
   "cell_type": "code",
   "execution_count": 9,
   "id": "4410f5df",
   "metadata": {},
   "outputs": [
    {
     "data": {
      "text/plain": [
       "5.666666666666667"
      ]
     },
     "execution_count": 9,
     "metadata": {},
     "output_type": "execute_result"
    }
   ],
   "source": [
    "17 / 3 \n",
    "# classic division returns a float"
   ]
  },
  {
   "cell_type": "code",
   "execution_count": 10,
   "id": "63024afd",
   "metadata": {},
   "outputs": [
    {
     "data": {
      "text/plain": [
       "5"
      ]
     },
     "execution_count": 10,
     "metadata": {},
     "output_type": "execute_result"
    }
   ],
   "source": [
    "17 // 3\n",
    "# floor division discards the fractional part"
   ]
  },
  {
   "cell_type": "code",
   "execution_count": 11,
   "id": "fcc0023d",
   "metadata": {},
   "outputs": [
    {
     "data": {
      "text/plain": [
       "2"
      ]
     },
     "execution_count": 11,
     "metadata": {},
     "output_type": "execute_result"
    }
   ],
   "source": [
    "17 % 3\n",
    "# the % operator returns the remainder of the division"
   ]
  },
  {
   "cell_type": "code",
   "execution_count": 12,
   "id": "c4c4d4b2",
   "metadata": {},
   "outputs": [
    {
     "data": {
      "text/plain": [
       "17"
      ]
     },
     "execution_count": 12,
     "metadata": {},
     "output_type": "execute_result"
    }
   ],
   "source": [
    "5 * 3 + 2 \n",
    "# result * divisor + remainder"
   ]
  },
  {
   "cell_type": "code",
   "execution_count": 13,
   "id": "9114f2c4",
   "metadata": {},
   "outputs": [
    {
     "data": {
      "text/plain": [
       "25"
      ]
     },
     "execution_count": 13,
     "metadata": {},
     "output_type": "execute_result"
    }
   ],
   "source": [
    " 5 ** 2 \n",
    "# 5 squared"
   ]
  },
  {
   "cell_type": "code",
   "execution_count": 14,
   "id": "33092e66",
   "metadata": {},
   "outputs": [
    {
     "data": {
      "text/plain": [
       "128"
      ]
     },
     "execution_count": 14,
     "metadata": {},
     "output_type": "execute_result"
    }
   ],
   "source": [
    "2 ** 7 \n",
    "# 2 to the power of 7"
   ]
  },
  {
   "cell_type": "code",
   "execution_count": 15,
   "id": "c2d9c23f",
   "metadata": {},
   "outputs": [],
   "source": [
    "width = 20"
   ]
  },
  {
   "cell_type": "code",
   "execution_count": 16,
   "id": "3163f9eb",
   "metadata": {},
   "outputs": [],
   "source": [
    "height = 5 * 9"
   ]
  },
  {
   "cell_type": "code",
   "execution_count": 17,
   "id": "fdbb08da",
   "metadata": {},
   "outputs": [
    {
     "data": {
      "text/plain": [
       "900"
      ]
     },
     "execution_count": 17,
     "metadata": {},
     "output_type": "execute_result"
    }
   ],
   "source": [
    "width * height"
   ]
  },
  {
   "cell_type": "code",
   "execution_count": 18,
   "id": "bb104c6c",
   "metadata": {},
   "outputs": [
    {
     "name": "stdout",
     "output_type": "stream",
     "text": [
      "20\n"
     ]
    }
   ],
   "source": [
    "print(width)"
   ]
  },
  {
   "cell_type": "code",
   "execution_count": 19,
   "id": "319f7dd7",
   "metadata": {},
   "outputs": [
    {
     "name": "stdout",
     "output_type": "stream",
     "text": [
      "45\n"
     ]
    }
   ],
   "source": [
    "print(height)"
   ]
  },
  {
   "cell_type": "code",
   "execution_count": 21,
   "id": "a17f7ef7",
   "metadata": {},
   "outputs": [
    {
     "name": "stdout",
     "output_type": "stream",
     "text": [
      "The value of width= 20\n"
     ]
    }
   ],
   "source": [
    "print('The value of width=',width) \n",
    "# use single quote"
   ]
  },
  {
   "cell_type": "code",
   "execution_count": 22,
   "id": "e9c7d79f",
   "metadata": {},
   "outputs": [
    {
     "name": "stdout",
     "output_type": "stream",
     "text": [
      "The value of width is= 20\n"
     ]
    }
   ],
   "source": [
    "print(\"The value of width is=\", width) \n",
    "# use double quote"
   ]
  },
  {
   "cell_type": "code",
   "execution_count": 23,
   "id": "2025dcc9",
   "metadata": {},
   "outputs": [
    {
     "name": "stdout",
     "output_type": "stream",
     "text": [
      "Value= 900\n"
     ]
    }
   ],
   "source": [
    "print(\"Value=\",width*height)"
   ]
  },
  {
   "cell_type": "markdown",
   "id": "3a26a823",
   "metadata": {},
   "source": [
    "# task"
   ]
  },
  {
   "cell_type": "code",
   "execution_count": 24,
   "id": "a8b669e8",
   "metadata": {},
   "outputs": [],
   "source": [
    "tax = 12.5 / 100"
   ]
  },
  {
   "cell_type": "code",
   "execution_count": 30,
   "id": "37fddd5b",
   "metadata": {},
   "outputs": [
    {
     "data": {
      "text/plain": [
       "0.125"
      ]
     },
     "execution_count": 30,
     "metadata": {},
     "output_type": "execute_result"
    }
   ],
   "source": [
    "tax"
   ]
  },
  {
   "cell_type": "code",
   "execution_count": 31,
   "id": "40e11773",
   "metadata": {},
   "outputs": [],
   "source": [
    "price = 100.50"
   ]
  },
  {
   "cell_type": "code",
   "execution_count": 32,
   "id": "e8449b79",
   "metadata": {},
   "outputs": [
    {
     "data": {
      "text/plain": [
       "100.5"
      ]
     },
     "execution_count": 32,
     "metadata": {},
     "output_type": "execute_result"
    }
   ],
   "source": [
    "price"
   ]
  },
  {
   "cell_type": "code",
   "execution_count": 26,
   "id": "210cecf9",
   "metadata": {},
   "outputs": [
    {
     "data": {
      "text/plain": [
       "12.5625"
      ]
     },
     "execution_count": 26,
     "metadata": {},
     "output_type": "execute_result"
    }
   ],
   "source": [
    "price * tax"
   ]
  },
  {
   "cell_type": "code",
   "execution_count": 28,
   "id": "af699f09",
   "metadata": {},
   "outputs": [],
   "source": [
    "hight= price * tax"
   ]
  },
  {
   "cell_type": "code",
   "execution_count": 29,
   "id": "a04abc6f",
   "metadata": {},
   "outputs": [
    {
     "data": {
      "text/plain": [
       "12.5625"
      ]
     },
     "execution_count": 29,
     "metadata": {},
     "output_type": "execute_result"
    }
   ],
   "source": [
    "hight"
   ]
  },
  {
   "cell_type": "markdown",
   "id": "3b772db2",
   "metadata": {},
   "source": [
    "# String concatenation"
   ]
  },
  {
   "cell_type": "code",
   "execution_count": 33,
   "id": "790509bb",
   "metadata": {},
   "outputs": [
    {
     "data": {
      "text/plain": [
       "'The Sun'"
      ]
     },
     "execution_count": 33,
     "metadata": {},
     "output_type": "execute_result"
    }
   ],
   "source": [
    "\"The \"+\"Sun\""
   ]
  },
  {
   "cell_type": "code",
   "execution_count": 34,
   "id": "13f9e8ca",
   "metadata": {},
   "outputs": [
    {
     "data": {
      "text/plain": [
       "'The Moon'"
      ]
     },
     "execution_count": 34,
     "metadata": {},
     "output_type": "execute_result"
    }
   ],
   "source": [
    "\"The \"+\"Moon\""
   ]
  },
  {
   "cell_type": "code",
   "execution_count": 35,
   "id": "8ffad7f1",
   "metadata": {},
   "outputs": [
    {
     "data": {
      "text/plain": [
       "'Planets Universe'"
      ]
     },
     "execution_count": 35,
     "metadata": {},
     "output_type": "execute_result"
    }
   ],
   "source": [
    "\"Planets\"+\" Universe\""
   ]
  },
  {
   "cell_type": "code",
   "execution_count": 36,
   "id": "e5711302",
   "metadata": {},
   "outputs": [],
   "source": [
    "string1 = \"Elon\""
   ]
  },
  {
   "cell_type": "code",
   "execution_count": 37,
   "id": "de277120",
   "metadata": {},
   "outputs": [
    {
     "data": {
      "text/plain": [
       "'Elon'"
      ]
     },
     "execution_count": 37,
     "metadata": {},
     "output_type": "execute_result"
    }
   ],
   "source": [
    "string1"
   ]
  },
  {
   "cell_type": "code",
   "execution_count": 38,
   "id": "10dc327b",
   "metadata": {},
   "outputs": [],
   "source": [
    "string2 = \"Musk\""
   ]
  },
  {
   "cell_type": "code",
   "execution_count": 39,
   "id": "4a17f313",
   "metadata": {},
   "outputs": [
    {
     "data": {
      "text/plain": [
       "'Musk'"
      ]
     },
     "execution_count": 39,
     "metadata": {},
     "output_type": "execute_result"
    }
   ],
   "source": [
    "string2"
   ]
  },
  {
   "cell_type": "code",
   "execution_count": 40,
   "id": "897a00c8",
   "metadata": {},
   "outputs": [],
   "source": [
    "magic_string = string1 + string2"
   ]
  },
  {
   "cell_type": "code",
   "execution_count": 41,
   "id": "07810baf",
   "metadata": {},
   "outputs": [
    {
     "data": {
      "text/plain": [
       "'ElonMusk'"
      ]
     },
     "execution_count": 41,
     "metadata": {},
     "output_type": "execute_result"
    }
   ],
   "source": [
    "magic_string"
   ]
  },
  {
   "cell_type": "code",
   "execution_count": 42,
   "id": "f594641e",
   "metadata": {},
   "outputs": [],
   "source": [
    "first_name = \"Arthur\""
   ]
  },
  {
   "cell_type": "code",
   "execution_count": 43,
   "id": "663f76a8",
   "metadata": {},
   "outputs": [],
   "source": [
    "last_name = \"Dent\""
   ]
  },
  {
   "cell_type": "code",
   "execution_count": 44,
   "id": "aa059988",
   "metadata": {},
   "outputs": [],
   "source": [
    "full_name = first_name + \" \" + last_name"
   ]
  },
  {
   "cell_type": "code",
   "execution_count": 45,
   "id": "e34488b9",
   "metadata": {},
   "outputs": [
    {
     "data": {
      "text/plain": [
       "'Arthur Dent'"
      ]
     },
     "execution_count": 45,
     "metadata": {},
     "output_type": "execute_result"
    }
   ],
   "source": [
    "full_name"
   ]
  },
  {
   "cell_type": "code",
   "execution_count": 46,
   "id": "5eeb788e",
   "metadata": {},
   "outputs": [],
   "source": [
    "w1=\"Rushda\""
   ]
  },
  {
   "cell_type": "code",
   "execution_count": 47,
   "id": "057549dc",
   "metadata": {},
   "outputs": [],
   "source": [
    "w2=\"shabbir\""
   ]
  },
  {
   "cell_type": "code",
   "execution_count": 48,
   "id": "494ac20b",
   "metadata": {},
   "outputs": [],
   "source": [
    "fname=w1+w2"
   ]
  },
  {
   "cell_type": "code",
   "execution_count": 49,
   "id": "0b8b2741",
   "metadata": {},
   "outputs": [
    {
     "data": {
      "text/plain": [
       "'Rushdashabbir'"
      ]
     },
     "execution_count": 49,
     "metadata": {},
     "output_type": "execute_result"
    }
   ],
   "source": [
    "fname"
   ]
  },
  {
   "cell_type": "code",
   "execution_count": 51,
   "id": "e8b922ed",
   "metadata": {},
   "outputs": [],
   "source": [
    "fname=w1+\" \"+w2"
   ]
  },
  {
   "cell_type": "code",
   "execution_count": 52,
   "id": "a6ac4f21",
   "metadata": {},
   "outputs": [
    {
     "data": {
      "text/plain": [
       "'Rushda shabbir'"
      ]
     },
     "execution_count": 52,
     "metadata": {},
     "output_type": "execute_result"
    }
   ],
   "source": [
    "fname"
   ]
  },
  {
   "cell_type": "markdown",
   "id": "8bca09fc",
   "metadata": {},
   "source": [
    "# User Input"
   ]
  },
  {
   "cell_type": "code",
   "execution_count": 53,
   "id": "779d6ce7",
   "metadata": {},
   "outputs": [],
   "source": [
    "prompt = \"Hey, what's up? \""
   ]
  },
  {
   "cell_type": "code",
   "execution_count": 55,
   "id": "9b99d009",
   "metadata": {},
   "outputs": [
    {
     "name": "stdout",
     "output_type": "stream",
     "text": [
      "Hey, what's up? nothing\n"
     ]
    }
   ],
   "source": [
    "user_input = input(prompt)"
   ]
  },
  {
   "cell_type": "code",
   "execution_count": 56,
   "id": "621a5edf",
   "metadata": {},
   "outputs": [
    {
     "name": "stdout",
     "output_type": "stream",
     "text": [
      "You said: nothing\n"
     ]
    }
   ],
   "source": [
    "print(\"You said: \" + user_input)"
   ]
  },
  {
   "cell_type": "code",
   "execution_count": 61,
   "id": "dab151b6",
   "metadata": {},
   "outputs": [
    {
     "name": "stdout",
     "output_type": "stream",
     "text": [
      "Enter a number to be doubled: 2\n"
     ]
    }
   ],
   "source": [
    "num = int(input(\"Enter a number to be doubled: \"))"
   ]
  },
  {
   "cell_type": "code",
   "execution_count": 62,
   "id": "36f257e0",
   "metadata": {},
   "outputs": [],
   "source": [
    "doubled_num = num * 2"
   ]
  },
  {
   "cell_type": "code",
   "execution_count": 63,
   "id": "354c2b01",
   "metadata": {},
   "outputs": [
    {
     "data": {
      "text/plain": [
       "4"
      ]
     },
     "execution_count": 63,
     "metadata": {},
     "output_type": "execute_result"
    }
   ],
   "source": [
    "doubled_num"
   ]
  },
  {
   "cell_type": "code",
   "execution_count": 64,
   "id": "d713bf73",
   "metadata": {},
   "outputs": [
    {
     "name": "stdout",
     "output_type": "stream",
     "text": [
      "4\n"
     ]
    }
   ],
   "source": [
    "print(doubled_num)"
   ]
  },
  {
   "cell_type": "code",
   "execution_count": 65,
   "id": "51324fde",
   "metadata": {},
   "outputs": [
    {
     "name": "stdout",
     "output_type": "stream",
     "text": [
      "Enter a number to be doubled: 5\n"
     ]
    }
   ],
   "source": [
    "#Task: Take user input and make twice of that number and typecast it to float.\n",
    "num = input(\"Enter a number to be doubled: \")"
   ]
  },
  {
   "cell_type": "code",
   "execution_count": 66,
   "id": "52c4132f",
   "metadata": {},
   "outputs": [],
   "source": [
    "doubled_num = float(num) * 2"
   ]
  },
  {
   "cell_type": "code",
   "execution_count": 67,
   "id": "1c3b56dc",
   "metadata": {},
   "outputs": [
    {
     "name": "stdout",
     "output_type": "stream",
     "text": [
      "10.0\n"
     ]
    }
   ],
   "source": [
    "print(doubled_num)"
   ]
  },
  {
   "cell_type": "code",
   "execution_count": 69,
   "id": "0988b451",
   "metadata": {},
   "outputs": [
    {
     "name": "stdout",
     "output_type": "stream",
     "text": [
      "enter a2\n",
      "enter b4\n"
     ]
    }
   ],
   "source": [
    "a=float(input(\"enter a\"))\n",
    "b=float(input(\"enter b\"))"
   ]
  },
  {
   "cell_type": "code",
   "execution_count": 70,
   "id": "69e600ed",
   "metadata": {},
   "outputs": [],
   "source": [
    "multiplies=a*b"
   ]
  },
  {
   "cell_type": "code",
   "execution_count": 71,
   "id": "1590a27c",
   "metadata": {},
   "outputs": [
    {
     "name": "stdout",
     "output_type": "stream",
     "text": [
      "8.0\n"
     ]
    }
   ],
   "source": [
    "print(multiplies)"
   ]
  },
  {
   "cell_type": "code",
   "execution_count": 72,
   "id": "e8950d99",
   "metadata": {},
   "outputs": [
    {
     "name": "stdout",
     "output_type": "stream",
     "text": [
      "enter the principle20\n",
      "enter the rate10\n",
      "enter the tax5\n"
     ]
    }
   ],
   "source": [
    "#Calculate simple interest by taking user input for priciple,rate and time\n",
    "p=int(input(\"enter the principle\"))\n",
    "r=int(input(\"enter the rate\"))\n",
    "t=int(input(\"enter the tax\"))"
   ]
  },
  {
   "cell_type": "code",
   "execution_count": 73,
   "id": "6ac90790",
   "metadata": {},
   "outputs": [],
   "source": [
    "simple_interest=(p*r*t)/100"
   ]
  },
  {
   "cell_type": "code",
   "execution_count": 74,
   "id": "ad0313e7",
   "metadata": {},
   "outputs": [
    {
     "name": "stdout",
     "output_type": "stream",
     "text": [
      "10.0\n"
     ]
    }
   ],
   "source": [
    "print(simple_interest)"
   ]
  },
  {
   "cell_type": "markdown",
   "id": "09c237f7",
   "metadata": {},
   "source": [
    "# Find length"
   ]
  },
  {
   "cell_type": "code",
   "execution_count": 75,
   "id": "cac24fab",
   "metadata": {},
   "outputs": [
    {
     "data": {
      "text/plain": [
       "3"
      ]
     },
     "execution_count": 75,
     "metadata": {},
     "output_type": "execute_result"
    }
   ],
   "source": [
    "len(\"abc\")"
   ]
  },
  {
   "cell_type": "code",
   "execution_count": 76,
   "id": "bea4cfb4",
   "metadata": {},
   "outputs": [],
   "source": [
    "letters = \"abc\""
   ]
  },
  {
   "cell_type": "code",
   "execution_count": 77,
   "id": "86e5f221",
   "metadata": {},
   "outputs": [
    {
     "data": {
      "text/plain": [
       "3"
      ]
     },
     "execution_count": 77,
     "metadata": {},
     "output_type": "execute_result"
    }
   ],
   "source": [
    "len(letters)"
   ]
  },
  {
   "cell_type": "code",
   "execution_count": 78,
   "id": "2548e99d",
   "metadata": {},
   "outputs": [],
   "source": [
    "#Create a string and print its length using len(). it will consider gap also\n",
    "str=\"the man is very greatful\""
   ]
  },
  {
   "cell_type": "code",
   "execution_count": 79,
   "id": "54b14808",
   "metadata": {},
   "outputs": [
    {
     "data": {
      "text/plain": [
       "24"
      ]
     },
     "execution_count": 79,
     "metadata": {},
     "output_type": "execute_result"
    }
   ],
   "source": [
    "len(str)"
   ]
  },
  {
   "cell_type": "markdown",
   "id": "adce67ec",
   "metadata": {},
   "source": [
    "# Try Yourself"
   ]
  },
  {
   "cell_type": "raw",
   "id": "f181ad42",
   "metadata": {},
   "source": [
    "# What is a Jupyter notebook?\n",
    "\n",
    "The Jupyter Notebook is an open source web application that you can use to create and share\n",
    "documents that contain live code, equations, visualizations, and text."
   ]
  },
  {
   "cell_type": "raw",
   "id": "9c0ab90f",
   "metadata": {},
   "source": [
    "\n",
    "# How do you add a new code cell below an existing cell?\n",
    "we can take below cell by + symbol and by the insert arrow from the main menu and set from the code options\n",
    "\n"
   ]
  },
  {
   "cell_type": "raw",
   "id": "32bc531a",
   "metadata": {},
   "source": [
    "# How do you add a new Markdown cell below an existing cell?\n",
    "\n",
    "we can take below cell by + symbol and by the insert arrow from the main menu and set from the code cell options choose there markdown\n",
    "\n"
   ]
  },
  {
   "cell_type": "raw",
   "id": "34f32936",
   "metadata": {},
   "source": [
    "# How do you convert a code cell to a Markdown cell or vice versa?\n",
    "\n",
    "wec can conver a select code cell by go main menu code box select markdown."
   ]
  },
  {
   "cell_type": "raw",
   "id": "eaf1ff58",
   "metadata": {},
   "source": [
    "# How do you execute a code cell within Jupyter?\n",
    "\n",
    "we can execute by Alt+enter and by the mainmenu run option"
   ]
  },
  {
   "cell_type": "raw",
   "id": "05ec6b59",
   "metadata": {},
   "source": [
    "# Here are the different types of arithmetic operators in Python?\n",
    "\n",
    "Addition (+)\n",
    "Subtraction (-)\n",
    "Multiplication (*)\n",
    "Division (/)\n",
    "Modulus (%)\n",
    "Exponentiation (**)\n",
    "Floor Division (//) \n"
   ]
  },
  {
   "cell_type": "raw",
   "id": "598018a7",
   "metadata": {},
   "source": [
    "# How do you perform arithmetic operations using Python?\n",
    "\n",
    "Basic operations: \n",
    "\"+\" is used for addition, \n",
    "\"-\" for subtraction,\n",
    "\"*\" for multiplication,\n",
    "\"/\" for division,\n",
    "\"%\" for remainder.\n",
    "(//) Floor Division its remove decimal value\n",
    "\"^\" is NOT used for exponents, it is a bitwise operator (NOTE: you don't need to know this). For exponents, use \"**\"."
   ]
  },
  {
   "cell_type": "raw",
   "id": "aa172ff3",
   "metadata": {},
   "source": [
    "# What is the difference between the / and the // operators?\n",
    "\n",
    "devision(/) always give the result in float data type \n",
    "but floor devision(//) remove the decimal from the result or in division"
   ]
  },
  {
   "cell_type": "raw",
   "id": "b8fe34af",
   "metadata": {},
   "source": [
    "# What is the difference between the * and the ** operators?\n",
    "\n",
    "(*) SINGLE ASTRIC use for the multiplication \n",
    "(**)DOUBLE ASTRIC used for the squared\n"
   ]
  },
  {
   "cell_type": "raw",
   "id": "b2227df7",
   "metadata": {},
   "source": [
    "# What is the order of precedence for arithmetic operators in Python?\n",
    "\n",
    "Arithmetic Operators: From highest to lowest precedence, these are ** (exponential), * (multiplication), / (division), + (addition), - (subtraction). Comparison Operators: These include == (equal), !=(not equal),> (greter than),< (less than)."
   ]
  },
  {
   "cell_type": "raw",
   "id": "62b7f95f",
   "metadata": {},
   "source": [
    "# How do you specify the order in which arithmetic operations are performed in an expression involving multiple operators?\n",
    "\n",
    "Python will always evaluate the arithmetic operators first (** is highest, then multiplication/division, then addition/subtraction). Next comes the relational operators. Finally, the logical operators are done last.\n",
    "\n"
   ]
  },
  {
   "cell_type": "raw",
   "id": "46b64e10",
   "metadata": {},
   "source": [
    "# What are variables? Why are they useful?\n",
    "\n",
    "variable is ussed for assigning the value"
   ]
  },
  {
   "cell_type": "raw",
   "id": "68079415",
   "metadata": {},
   "source": [
    "# how do you creat the variable in python?\n",
    "\n",
    "To create a new variable in Python, you simply use the assignment operator ( = , a single equals sign) and assign the desired value to it."
   ]
  },
  {
   "cell_type": "raw",
   "id": "ac870464",
   "metadata": {},
   "source": [
    "# what is the assignment operator in python?\n",
    "\n",
    "Assignment operator in Python is used to assign values to variables, and it comes in different types. The simple assignment operator (=) assigns a value to a variable."
   ]
  },
  {
   "cell_type": "raw",
   "id": "eeeea961",
   "metadata": {},
   "source": [
    "# What are the rules for naming a variable in Python?\n",
    "\n",
    "Rules for Python variables:\n",
    "A variable name must start with a letter or the underscore character.\n",
    "A variable name cannot start with a number.\n",
    "A variable name can only contain alpha-numeric characters and underscores (A-z, 0-9, and _ )\n",
    "Variable names are case-sensitive (age, Age and AGE are three different variables)"
   ]
  },
  {
   "cell_type": "raw",
   "id": "202756d2",
   "metadata": {},
   "source": [
    "# How do you view the value of a variable?\n",
    "\n",
    "Steps:\n",
    "* Initialize a variable test_var with a string value.\n",
    "* Print the original variable using the print() function.\n",
    "* Use the vars() function to access the variable value from code scope and assign it to a new variable res.\n",
    "* Print the result.\n",
    "like if we created variable a assign = value 3\n",
    "a=3\n",
    "then for view the value we will give command only with variable like a run value will be printed"
   ]
  },
  {
   "cell_type": "raw",
   "id": "748364e5",
   "metadata": {},
   "source": [
    "# What happens if you try to access a variable that has not been defined?\n",
    "\n",
    "An attempt to read the value of such an undeclared variable causes a runtime error. Undeclared variables are undefined because they simply do not exist."
   ]
  },
  {
   "cell_type": "raw",
   "id": "bc0f2ce5",
   "metadata": {},
   "source": [
    "# How do you display messages in Python?\n",
    "\n",
    "we can use the print statement. For example: print(\"Hello, my what a lovely day it is!\") The print statement can contain any collection of letters or numbers as long as they are wrapped within the speech."
   ]
  },
  {
   "cell_type": "raw",
   "id": "b6d2a1f8",
   "metadata": {},
   "source": [
    "# What type of inputs can the print function accept?\n",
    "\n",
    "The python print function takes one or more objects as input and displays them on the screen. The objects can be strings, numbers, variables, or even expressions. "
   ]
  },
  {
   "cell_type": "raw",
   "id": "aae56eb4",
   "metadata": {},
   "source": [
    "# What are code comments? How are they useful?\n",
    "\n",
    "Code comments are intended to make the related code easier to understand by providing additional context or explanation. Code comments can be: used to document the design and functionality of a program and to provide instructions for how to use or modify a piece of code."
   ]
  },
  {
   "cell_type": "raw",
   "id": "4dcad7c0",
   "metadata": {},
   "source": [
    "# What are the different ways of creating comments in Python code?\n",
    "\n",
    "Comments in Python are identified with a hash symbol, #, and extend to the end of the line. Hash characters in a string are not considered comments, however. There are three ways to write a comment \n",
    "- as a separate line,\n",
    "beside the corresponding statement of code,\n",
    "or as a multi-line comment block"
   ]
  },
  {
   "cell_type": "raw",
   "id": "2dd9dabb",
   "metadata": {},
   "source": [
    "# What are the different comparison operations supported in Python?\n",
    "\n",
    "The six comparison operators are in python\n",
    "1) == or equal to,\n",
    "2) != or not equal to, \n",
    "3) > or greater than, \n",
    "4) >= or greater than or equal to, \n",
    "5) < or less than, and \n",
    "6) <= or less than or equal to. \n",
    "They can be used to compare different values in Python, such as integers or strings."
   ]
  },
  {
   "cell_type": "raw",
   "id": "5945fb38",
   "metadata": {},
   "source": [
    "# What is the result of a comparison operation?\n",
    "\n",
    "=>the result of comparision operator give boolean values print in true and false\n",
    "=>Comparison operators in Python, also called relational operators, are used to compare two operands. They return a Boolean True or False depending on whether the comparison condition is true or false."
   ]
  },
  {
   "cell_type": "raw",
   "id": "3a312ff5",
   "metadata": {},
   "source": [
    "# What is the difference between = and == in Python?\n",
    "\n",
    "The = is a simple assignment operator. It assigns values from right side operands to the left side operand. \n",
    "While on the other hand == checks if the values of two operands are equal or not. If yes, the condition becomes true and it returns a non zero value."
   ]
  },
  {
   "cell_type": "raw",
   "id": "1cd8543e",
   "metadata": {},
   "source": [
    "# What are the logical operators supported in Python?\n",
    "\n",
    "Python has three Boolean operators, or logical operators: and , or , and not ."
   ]
  },
  {
   "cell_type": "raw",
   "id": "88921aa8",
   "metadata": {},
   "source": [
    "# What is the difference between the and and or operators?\n",
    "\n",
    "The *AND operator indicates that both operands (on either side of the operator) have to be true to produce a true result. The *OR operator indicates that one or the other of its operands must be true to produce a true result."
   ]
  },
  {
   "cell_type": "raw",
   "id": "f245ffe1",
   "metadata": {},
   "source": [
    "#Can you use comparison and logical operators in the same expression? \n",
    "\n"
   ]
  },
  {
   "cell_type": "raw",
   "id": "8a62cd73",
   "metadata": {},
   "source": [
    "# What is the purpose of using parentheses in arithmetic or logical expressions?\n",
    "\n",
    "Parentheses can be used to override the order of precedence and force some parts of an expression to be evaluated before others. Operations within parentheses are always performed before those outside. Within parentheses, however, operator precedence is maintained. like () and {} or []."
   ]
  },
  {
   "cell_type": "raw",
   "id": "922e486e",
   "metadata": {},
   "source": [
    "# what is markdown? why it is usefull?\n",
    "\n",
    "Markdown is a text-to-HTML conversion tool for web writers. Markdown allows you to write using an easy-to-read, easy-to-write plain text format, then convert it to structurally valid XHTML (or HTML).”"
   ]
  },
  {
   "cell_type": "markdown",
   "id": "332bf3d9",
   "metadata": {},
   "source": [
    "# EXERCISE:"
   ]
  },
  {
   "cell_type": "raw",
   "id": "9015da52",
   "metadata": {},
   "source": [
    "A travel company wants to fly a plane to the Bahamas. Flying the plane costs 5000 dollars. So far, 29 people have signed up for the trip. If the company charges 200 dollars per ticket, what is the profit made by the company? Create variables for each numeric quantity and use appropriate arithmetic operations."
   ]
  },
  {
   "cell_type": "code",
   "execution_count": 84,
   "id": "241ad5bf",
   "metadata": {},
   "outputs": [],
   "source": [
    "#Solution:\n",
    "\n",
    "plane_cost =5000\n",
    "\n",
    "total_people_signed_up=29\n",
    "\n",
    "ticket_cost=200\n",
    "# amount_received_by_company=total_people_signed_up*ticket_cost\n",
    "# total_profit=amount_received_by_company-plane_cost\n",
    "# total_profit"
   ]
  },
  {
   "cell_type": "code",
   "execution_count": 85,
   "id": "0d972332",
   "metadata": {},
   "outputs": [],
   "source": [
    "amount_received_by_company=total_people_signed_up*ticket_cost"
   ]
  },
  {
   "cell_type": "code",
   "execution_count": 87,
   "id": "9c72e97e",
   "metadata": {},
   "outputs": [
    {
     "data": {
      "text/plain": [
       "5800"
      ]
     },
     "execution_count": 87,
     "metadata": {},
     "output_type": "execute_result"
    }
   ],
   "source": [
    "amount_received_by_company"
   ]
  },
  {
   "cell_type": "code",
   "execution_count": 88,
   "id": "f525c3db",
   "metadata": {},
   "outputs": [],
   "source": [
    "total_profit=amount_received_by_company-plane_cost"
   ]
  },
  {
   "cell_type": "code",
   "execution_count": 89,
   "id": "7b324267",
   "metadata": {},
   "outputs": [
    {
     "data": {
      "text/plain": [
       "800"
      ]
     },
     "execution_count": 89,
     "metadata": {},
     "output_type": "execute_result"
    }
   ],
   "source": [
    "total_profit"
   ]
  },
  {
   "cell_type": "code",
   "execution_count": null,
   "id": "ad80f0f3",
   "metadata": {},
   "outputs": [],
   "source": []
  }
 ],
 "metadata": {
  "kernelspec": {
   "display_name": "Python 3 (ipykernel)",
   "language": "python",
   "name": "python3"
  },
  "language_info": {
   "codemirror_mode": {
    "name": "ipython",
    "version": 3
   },
   "file_extension": ".py",
   "mimetype": "text/x-python",
   "name": "python",
   "nbconvert_exporter": "python",
   "pygments_lexer": "ipython3",
   "version": "3.11.5"
  }
 },
 "nbformat": 4,
 "nbformat_minor": 5
}
